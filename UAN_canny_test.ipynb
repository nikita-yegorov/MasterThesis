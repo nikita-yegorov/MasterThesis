{
  "nbformat": 4,
  "nbformat_minor": 0,
  "metadata": {
    "colab": {
      "name": "UAN_canny_test.ipynb",
      "provenance": [],
      "collapsed_sections": []
    },
    "kernelspec": {
      "display_name": "Python 3",
      "name": "python3"
    },
    "language_info": {
      "name": "python"
    },
    "widgets": {
      "application/vnd.jupyter.widget-state+json": {
        "7bd272fb54ba460db5841db0b957fc57": {
          "model_module": "@jupyter-widgets/controls",
          "model_name": "HBoxModel",
          "model_module_version": "1.5.0",
          "state": {
            "_view_name": "HBoxView",
            "_dom_classes": [],
            "_model_name": "HBoxModel",
            "_view_module": "@jupyter-widgets/controls",
            "_model_module_version": "1.5.0",
            "_view_count": null,
            "_view_module_version": "1.5.0",
            "box_style": "",
            "layout": "IPY_MODEL_e1c70642f36248b2bff0400c773fe0b0",
            "_model_module": "@jupyter-widgets/controls",
            "children": [
              "IPY_MODEL_7aeaf27a6d3f4ccd97fe1467fbc5296b",
              "IPY_MODEL_0321af7f44bf4230b1b9bdb35fd06fd5",
              "IPY_MODEL_29b5d84cac084fcb85af03d599bc341d"
            ]
          }
        },
        "e1c70642f36248b2bff0400c773fe0b0": {
          "model_module": "@jupyter-widgets/base",
          "model_name": "LayoutModel",
          "model_module_version": "1.2.0",
          "state": {
            "_view_name": "LayoutView",
            "grid_template_rows": null,
            "right": null,
            "justify_content": null,
            "_view_module": "@jupyter-widgets/base",
            "overflow": null,
            "_model_module_version": "1.2.0",
            "_view_count": null,
            "flex_flow": null,
            "width": null,
            "min_width": null,
            "border": null,
            "align_items": null,
            "bottom": null,
            "_model_module": "@jupyter-widgets/base",
            "top": null,
            "grid_column": null,
            "overflow_y": null,
            "overflow_x": null,
            "grid_auto_flow": null,
            "grid_area": null,
            "grid_template_columns": null,
            "flex": null,
            "_model_name": "LayoutModel",
            "justify_items": null,
            "grid_row": null,
            "max_height": null,
            "align_content": null,
            "visibility": null,
            "align_self": null,
            "height": null,
            "min_height": null,
            "padding": null,
            "grid_auto_rows": null,
            "grid_gap": null,
            "max_width": null,
            "order": null,
            "_view_module_version": "1.2.0",
            "grid_template_areas": null,
            "object_position": null,
            "object_fit": null,
            "grid_auto_columns": null,
            "margin": null,
            "display": null,
            "left": null
          }
        },
        "7aeaf27a6d3f4ccd97fe1467fbc5296b": {
          "model_module": "@jupyter-widgets/controls",
          "model_name": "HTMLModel",
          "model_module_version": "1.5.0",
          "state": {
            "_view_name": "HTMLView",
            "style": "IPY_MODEL_e149af69e5a649518de3a8cfb3078675",
            "_dom_classes": [],
            "description": "",
            "_model_name": "HTMLModel",
            "placeholder": "​",
            "_view_module": "@jupyter-widgets/controls",
            "_model_module_version": "1.5.0",
            "value": "testing : 100%",
            "_view_count": null,
            "_view_module_version": "1.5.0",
            "description_tooltip": null,
            "_model_module": "@jupyter-widgets/controls",
            "layout": "IPY_MODEL_38818e9639c54b17bb205c4b15fa1ec6"
          }
        },
        "0321af7f44bf4230b1b9bdb35fd06fd5": {
          "model_module": "@jupyter-widgets/controls",
          "model_name": "FloatProgressModel",
          "model_module_version": "1.5.0",
          "state": {
            "_view_name": "ProgressView",
            "style": "IPY_MODEL_2493670fef4241b88b0babcbe61a3f62",
            "_dom_classes": [],
            "description": "",
            "_model_name": "FloatProgressModel",
            "bar_style": "success",
            "max": 10,
            "_view_module": "@jupyter-widgets/controls",
            "_model_module_version": "1.5.0",
            "value": 10,
            "_view_count": null,
            "_view_module_version": "1.5.0",
            "orientation": "horizontal",
            "min": 0,
            "description_tooltip": null,
            "_model_module": "@jupyter-widgets/controls",
            "layout": "IPY_MODEL_1fef03873f2a41589b01f640fe287f1c"
          }
        },
        "29b5d84cac084fcb85af03d599bc341d": {
          "model_module": "@jupyter-widgets/controls",
          "model_name": "HTMLModel",
          "model_module_version": "1.5.0",
          "state": {
            "_view_name": "HTMLView",
            "style": "IPY_MODEL_c94c3d7a9e324b76b0859da74956376d",
            "_dom_classes": [],
            "description": "",
            "_model_name": "HTMLModel",
            "placeholder": "​",
            "_view_module": "@jupyter-widgets/controls",
            "_model_module_version": "1.5.0",
            "value": " 10/10 [00:08&lt;00:00,  1.08it/s]",
            "_view_count": null,
            "_view_module_version": "1.5.0",
            "description_tooltip": null,
            "_model_module": "@jupyter-widgets/controls",
            "layout": "IPY_MODEL_3c0df8b7ff1949adaaba855c8fa7b256"
          }
        },
        "e149af69e5a649518de3a8cfb3078675": {
          "model_module": "@jupyter-widgets/controls",
          "model_name": "DescriptionStyleModel",
          "model_module_version": "1.5.0",
          "state": {
            "_view_name": "StyleView",
            "_model_name": "DescriptionStyleModel",
            "description_width": "",
            "_view_module": "@jupyter-widgets/base",
            "_model_module_version": "1.5.0",
            "_view_count": null,
            "_view_module_version": "1.2.0",
            "_model_module": "@jupyter-widgets/controls"
          }
        },
        "38818e9639c54b17bb205c4b15fa1ec6": {
          "model_module": "@jupyter-widgets/base",
          "model_name": "LayoutModel",
          "model_module_version": "1.2.0",
          "state": {
            "_view_name": "LayoutView",
            "grid_template_rows": null,
            "right": null,
            "justify_content": null,
            "_view_module": "@jupyter-widgets/base",
            "overflow": null,
            "_model_module_version": "1.2.0",
            "_view_count": null,
            "flex_flow": null,
            "width": null,
            "min_width": null,
            "border": null,
            "align_items": null,
            "bottom": null,
            "_model_module": "@jupyter-widgets/base",
            "top": null,
            "grid_column": null,
            "overflow_y": null,
            "overflow_x": null,
            "grid_auto_flow": null,
            "grid_area": null,
            "grid_template_columns": null,
            "flex": null,
            "_model_name": "LayoutModel",
            "justify_items": null,
            "grid_row": null,
            "max_height": null,
            "align_content": null,
            "visibility": null,
            "align_self": null,
            "height": null,
            "min_height": null,
            "padding": null,
            "grid_auto_rows": null,
            "grid_gap": null,
            "max_width": null,
            "order": null,
            "_view_module_version": "1.2.0",
            "grid_template_areas": null,
            "object_position": null,
            "object_fit": null,
            "grid_auto_columns": null,
            "margin": null,
            "display": null,
            "left": null
          }
        },
        "2493670fef4241b88b0babcbe61a3f62": {
          "model_module": "@jupyter-widgets/controls",
          "model_name": "ProgressStyleModel",
          "model_module_version": "1.5.0",
          "state": {
            "_view_name": "StyleView",
            "_model_name": "ProgressStyleModel",
            "description_width": "",
            "_view_module": "@jupyter-widgets/base",
            "_model_module_version": "1.5.0",
            "_view_count": null,
            "_view_module_version": "1.2.0",
            "bar_color": null,
            "_model_module": "@jupyter-widgets/controls"
          }
        },
        "1fef03873f2a41589b01f640fe287f1c": {
          "model_module": "@jupyter-widgets/base",
          "model_name": "LayoutModel",
          "model_module_version": "1.2.0",
          "state": {
            "_view_name": "LayoutView",
            "grid_template_rows": null,
            "right": null,
            "justify_content": null,
            "_view_module": "@jupyter-widgets/base",
            "overflow": null,
            "_model_module_version": "1.2.0",
            "_view_count": null,
            "flex_flow": null,
            "width": null,
            "min_width": null,
            "border": null,
            "align_items": null,
            "bottom": null,
            "_model_module": "@jupyter-widgets/base",
            "top": null,
            "grid_column": null,
            "overflow_y": null,
            "overflow_x": null,
            "grid_auto_flow": null,
            "grid_area": null,
            "grid_template_columns": null,
            "flex": null,
            "_model_name": "LayoutModel",
            "justify_items": null,
            "grid_row": null,
            "max_height": null,
            "align_content": null,
            "visibility": null,
            "align_self": null,
            "height": null,
            "min_height": null,
            "padding": null,
            "grid_auto_rows": null,
            "grid_gap": null,
            "max_width": null,
            "order": null,
            "_view_module_version": "1.2.0",
            "grid_template_areas": null,
            "object_position": null,
            "object_fit": null,
            "grid_auto_columns": null,
            "margin": null,
            "display": null,
            "left": null
          }
        },
        "c94c3d7a9e324b76b0859da74956376d": {
          "model_module": "@jupyter-widgets/controls",
          "model_name": "DescriptionStyleModel",
          "model_module_version": "1.5.0",
          "state": {
            "_view_name": "StyleView",
            "_model_name": "DescriptionStyleModel",
            "description_width": "",
            "_view_module": "@jupyter-widgets/base",
            "_model_module_version": "1.5.0",
            "_view_count": null,
            "_view_module_version": "1.2.0",
            "_model_module": "@jupyter-widgets/controls"
          }
        },
        "3c0df8b7ff1949adaaba855c8fa7b256": {
          "model_module": "@jupyter-widgets/base",
          "model_name": "LayoutModel",
          "model_module_version": "1.2.0",
          "state": {
            "_view_name": "LayoutView",
            "grid_template_rows": null,
            "right": null,
            "justify_content": null,
            "_view_module": "@jupyter-widgets/base",
            "overflow": null,
            "_model_module_version": "1.2.0",
            "_view_count": null,
            "flex_flow": null,
            "width": null,
            "min_width": null,
            "border": null,
            "align_items": null,
            "bottom": null,
            "_model_module": "@jupyter-widgets/base",
            "top": null,
            "grid_column": null,
            "overflow_y": null,
            "overflow_x": null,
            "grid_auto_flow": null,
            "grid_area": null,
            "grid_template_columns": null,
            "flex": null,
            "_model_name": "LayoutModel",
            "justify_items": null,
            "grid_row": null,
            "max_height": null,
            "align_content": null,
            "visibility": null,
            "align_self": null,
            "height": null,
            "min_height": null,
            "padding": null,
            "grid_auto_rows": null,
            "grid_gap": null,
            "max_width": null,
            "order": null,
            "_view_module_version": "1.2.0",
            "grid_template_areas": null,
            "object_position": null,
            "object_fit": null,
            "grid_auto_columns": null,
            "margin": null,
            "display": null,
            "left": null
          }
        },
        "c4e14593620645c28be0431031506fd9": {
          "model_module": "@jupyter-widgets/controls",
          "model_name": "HBoxModel",
          "model_module_version": "1.5.0",
          "state": {
            "_view_name": "HBoxView",
            "_dom_classes": [],
            "_model_name": "HBoxModel",
            "_view_module": "@jupyter-widgets/controls",
            "_model_module_version": "1.5.0",
            "_view_count": null,
            "_view_module_version": "1.5.0",
            "box_style": "",
            "layout": "IPY_MODEL_ff0d8dce331c427d8e650f6dd2a65c06",
            "_model_module": "@jupyter-widgets/controls",
            "children": [
              "IPY_MODEL_6df2fb8f9ca9458081c6eb04b83a082b",
              "IPY_MODEL_a6f898c7671743f0a650fc4ebeab089b",
              "IPY_MODEL_3a1330dae8dd4c3291c1c380bf1134de"
            ]
          }
        },
        "ff0d8dce331c427d8e650f6dd2a65c06": {
          "model_module": "@jupyter-widgets/base",
          "model_name": "LayoutModel",
          "model_module_version": "1.2.0",
          "state": {
            "_view_name": "LayoutView",
            "grid_template_rows": null,
            "right": null,
            "justify_content": null,
            "_view_module": "@jupyter-widgets/base",
            "overflow": null,
            "_model_module_version": "1.2.0",
            "_view_count": null,
            "flex_flow": null,
            "width": null,
            "min_width": null,
            "border": null,
            "align_items": null,
            "bottom": null,
            "_model_module": "@jupyter-widgets/base",
            "top": null,
            "grid_column": null,
            "overflow_y": null,
            "overflow_x": null,
            "grid_auto_flow": null,
            "grid_area": null,
            "grid_template_columns": null,
            "flex": null,
            "_model_name": "LayoutModel",
            "justify_items": null,
            "grid_row": null,
            "max_height": null,
            "align_content": null,
            "visibility": null,
            "align_self": null,
            "height": null,
            "min_height": null,
            "padding": null,
            "grid_auto_rows": null,
            "grid_gap": null,
            "max_width": null,
            "order": null,
            "_view_module_version": "1.2.0",
            "grid_template_areas": null,
            "object_position": null,
            "object_fit": null,
            "grid_auto_columns": null,
            "margin": null,
            "display": null,
            "left": null
          }
        },
        "6df2fb8f9ca9458081c6eb04b83a082b": {
          "model_module": "@jupyter-widgets/controls",
          "model_name": "HTMLModel",
          "model_module_version": "1.5.0",
          "state": {
            "_view_name": "HTMLView",
            "style": "IPY_MODEL_7da8bb9820444f4cbcd362de43ba1e0d",
            "_dom_classes": [],
            "description": "",
            "_model_name": "HTMLModel",
            "placeholder": "​",
            "_view_module": "@jupyter-widgets/controls",
            "_model_module_version": "1.5.0",
            "value": "testing : 100%",
            "_view_count": null,
            "_view_module_version": "1.5.0",
            "description_tooltip": null,
            "_model_module": "@jupyter-widgets/controls",
            "layout": "IPY_MODEL_09afa6925e2f44efaaccb1cad7a30ff4"
          }
        },
        "a6f898c7671743f0a650fc4ebeab089b": {
          "model_module": "@jupyter-widgets/controls",
          "model_name": "FloatProgressModel",
          "model_module_version": "1.5.0",
          "state": {
            "_view_name": "ProgressView",
            "style": "IPY_MODEL_9bcfc804c1be437f9715ad804311ebb0",
            "_dom_classes": [],
            "description": "",
            "_model_name": "FloatProgressModel",
            "bar_style": "success",
            "max": 10,
            "_view_module": "@jupyter-widgets/controls",
            "_model_module_version": "1.5.0",
            "value": 10,
            "_view_count": null,
            "_view_module_version": "1.5.0",
            "orientation": "horizontal",
            "min": 0,
            "description_tooltip": null,
            "_model_module": "@jupyter-widgets/controls",
            "layout": "IPY_MODEL_37685ffb86bf4f67a9b924304266b515"
          }
        },
        "3a1330dae8dd4c3291c1c380bf1134de": {
          "model_module": "@jupyter-widgets/controls",
          "model_name": "HTMLModel",
          "model_module_version": "1.5.0",
          "state": {
            "_view_name": "HTMLView",
            "style": "IPY_MODEL_0c979dbbd68d4e3290afee800218a4f6",
            "_dom_classes": [],
            "description": "",
            "_model_name": "HTMLModel",
            "placeholder": "​",
            "_view_module": "@jupyter-widgets/controls",
            "_model_module_version": "1.5.0",
            "value": " 10/10 [00:08&lt;00:00,  1.06it/s]",
            "_view_count": null,
            "_view_module_version": "1.5.0",
            "description_tooltip": null,
            "_model_module": "@jupyter-widgets/controls",
            "layout": "IPY_MODEL_bae5e16a64a74b43919d469abffa4e83"
          }
        },
        "7da8bb9820444f4cbcd362de43ba1e0d": {
          "model_module": "@jupyter-widgets/controls",
          "model_name": "DescriptionStyleModel",
          "model_module_version": "1.5.0",
          "state": {
            "_view_name": "StyleView",
            "_model_name": "DescriptionStyleModel",
            "description_width": "",
            "_view_module": "@jupyter-widgets/base",
            "_model_module_version": "1.5.0",
            "_view_count": null,
            "_view_module_version": "1.2.0",
            "_model_module": "@jupyter-widgets/controls"
          }
        },
        "09afa6925e2f44efaaccb1cad7a30ff4": {
          "model_module": "@jupyter-widgets/base",
          "model_name": "LayoutModel",
          "model_module_version": "1.2.0",
          "state": {
            "_view_name": "LayoutView",
            "grid_template_rows": null,
            "right": null,
            "justify_content": null,
            "_view_module": "@jupyter-widgets/base",
            "overflow": null,
            "_model_module_version": "1.2.0",
            "_view_count": null,
            "flex_flow": null,
            "width": null,
            "min_width": null,
            "border": null,
            "align_items": null,
            "bottom": null,
            "_model_module": "@jupyter-widgets/base",
            "top": null,
            "grid_column": null,
            "overflow_y": null,
            "overflow_x": null,
            "grid_auto_flow": null,
            "grid_area": null,
            "grid_template_columns": null,
            "flex": null,
            "_model_name": "LayoutModel",
            "justify_items": null,
            "grid_row": null,
            "max_height": null,
            "align_content": null,
            "visibility": null,
            "align_self": null,
            "height": null,
            "min_height": null,
            "padding": null,
            "grid_auto_rows": null,
            "grid_gap": null,
            "max_width": null,
            "order": null,
            "_view_module_version": "1.2.0",
            "grid_template_areas": null,
            "object_position": null,
            "object_fit": null,
            "grid_auto_columns": null,
            "margin": null,
            "display": null,
            "left": null
          }
        },
        "9bcfc804c1be437f9715ad804311ebb0": {
          "model_module": "@jupyter-widgets/controls",
          "model_name": "ProgressStyleModel",
          "model_module_version": "1.5.0",
          "state": {
            "_view_name": "StyleView",
            "_model_name": "ProgressStyleModel",
            "description_width": "",
            "_view_module": "@jupyter-widgets/base",
            "_model_module_version": "1.5.0",
            "_view_count": null,
            "_view_module_version": "1.2.0",
            "bar_color": null,
            "_model_module": "@jupyter-widgets/controls"
          }
        },
        "37685ffb86bf4f67a9b924304266b515": {
          "model_module": "@jupyter-widgets/base",
          "model_name": "LayoutModel",
          "model_module_version": "1.2.0",
          "state": {
            "_view_name": "LayoutView",
            "grid_template_rows": null,
            "right": null,
            "justify_content": null,
            "_view_module": "@jupyter-widgets/base",
            "overflow": null,
            "_model_module_version": "1.2.0",
            "_view_count": null,
            "flex_flow": null,
            "width": null,
            "min_width": null,
            "border": null,
            "align_items": null,
            "bottom": null,
            "_model_module": "@jupyter-widgets/base",
            "top": null,
            "grid_column": null,
            "overflow_y": null,
            "overflow_x": null,
            "grid_auto_flow": null,
            "grid_area": null,
            "grid_template_columns": null,
            "flex": null,
            "_model_name": "LayoutModel",
            "justify_items": null,
            "grid_row": null,
            "max_height": null,
            "align_content": null,
            "visibility": null,
            "align_self": null,
            "height": null,
            "min_height": null,
            "padding": null,
            "grid_auto_rows": null,
            "grid_gap": null,
            "max_width": null,
            "order": null,
            "_view_module_version": "1.2.0",
            "grid_template_areas": null,
            "object_position": null,
            "object_fit": null,
            "grid_auto_columns": null,
            "margin": null,
            "display": null,
            "left": null
          }
        },
        "0c979dbbd68d4e3290afee800218a4f6": {
          "model_module": "@jupyter-widgets/controls",
          "model_name": "DescriptionStyleModel",
          "model_module_version": "1.5.0",
          "state": {
            "_view_name": "StyleView",
            "_model_name": "DescriptionStyleModel",
            "description_width": "",
            "_view_module": "@jupyter-widgets/base",
            "_model_module_version": "1.5.0",
            "_view_count": null,
            "_view_module_version": "1.2.0",
            "_model_module": "@jupyter-widgets/controls"
          }
        },
        "bae5e16a64a74b43919d469abffa4e83": {
          "model_module": "@jupyter-widgets/base",
          "model_name": "LayoutModel",
          "model_module_version": "1.2.0",
          "state": {
            "_view_name": "LayoutView",
            "grid_template_rows": null,
            "right": null,
            "justify_content": null,
            "_view_module": "@jupyter-widgets/base",
            "overflow": null,
            "_model_module_version": "1.2.0",
            "_view_count": null,
            "flex_flow": null,
            "width": null,
            "min_width": null,
            "border": null,
            "align_items": null,
            "bottom": null,
            "_model_module": "@jupyter-widgets/base",
            "top": null,
            "grid_column": null,
            "overflow_y": null,
            "overflow_x": null,
            "grid_auto_flow": null,
            "grid_area": null,
            "grid_template_columns": null,
            "flex": null,
            "_model_name": "LayoutModel",
            "justify_items": null,
            "grid_row": null,
            "max_height": null,
            "align_content": null,
            "visibility": null,
            "align_self": null,
            "height": null,
            "min_height": null,
            "padding": null,
            "grid_auto_rows": null,
            "grid_gap": null,
            "max_width": null,
            "order": null,
            "_view_module_version": "1.2.0",
            "grid_template_areas": null,
            "object_position": null,
            "object_fit": null,
            "grid_auto_columns": null,
            "margin": null,
            "display": null,
            "left": null
          }
        },
        "28c23f064e4b4aad8f9c918e65593124": {
          "model_module": "@jupyter-widgets/controls",
          "model_name": "HBoxModel",
          "model_module_version": "1.5.0",
          "state": {
            "_view_name": "HBoxView",
            "_dom_classes": [],
            "_model_name": "HBoxModel",
            "_view_module": "@jupyter-widgets/controls",
            "_model_module_version": "1.5.0",
            "_view_count": null,
            "_view_module_version": "1.5.0",
            "box_style": "",
            "layout": "IPY_MODEL_3b5ee839a2f34f07afbc26bf60b7de83",
            "_model_module": "@jupyter-widgets/controls",
            "children": [
              "IPY_MODEL_021504cf765e440ab032b97d26a3c1cc",
              "IPY_MODEL_f97e2464792f41bb9b51dfa5195d8e5e",
              "IPY_MODEL_de22d7f31eca41feb40511b740d92caa"
            ]
          }
        },
        "3b5ee839a2f34f07afbc26bf60b7de83": {
          "model_module": "@jupyter-widgets/base",
          "model_name": "LayoutModel",
          "model_module_version": "1.2.0",
          "state": {
            "_view_name": "LayoutView",
            "grid_template_rows": null,
            "right": null,
            "justify_content": null,
            "_view_module": "@jupyter-widgets/base",
            "overflow": null,
            "_model_module_version": "1.2.0",
            "_view_count": null,
            "flex_flow": null,
            "width": null,
            "min_width": null,
            "border": null,
            "align_items": null,
            "bottom": null,
            "_model_module": "@jupyter-widgets/base",
            "top": null,
            "grid_column": null,
            "overflow_y": null,
            "overflow_x": null,
            "grid_auto_flow": null,
            "grid_area": null,
            "grid_template_columns": null,
            "flex": null,
            "_model_name": "LayoutModel",
            "justify_items": null,
            "grid_row": null,
            "max_height": null,
            "align_content": null,
            "visibility": null,
            "align_self": null,
            "height": null,
            "min_height": null,
            "padding": null,
            "grid_auto_rows": null,
            "grid_gap": null,
            "max_width": null,
            "order": null,
            "_view_module_version": "1.2.0",
            "grid_template_areas": null,
            "object_position": null,
            "object_fit": null,
            "grid_auto_columns": null,
            "margin": null,
            "display": null,
            "left": null
          }
        },
        "021504cf765e440ab032b97d26a3c1cc": {
          "model_module": "@jupyter-widgets/controls",
          "model_name": "HTMLModel",
          "model_module_version": "1.5.0",
          "state": {
            "_view_name": "HTMLView",
            "style": "IPY_MODEL_63c1fbff72fb4ddb919e483df689831e",
            "_dom_classes": [],
            "description": "",
            "_model_name": "HTMLModel",
            "placeholder": "​",
            "_view_module": "@jupyter-widgets/controls",
            "_model_module_version": "1.5.0",
            "value": "testing : 100%",
            "_view_count": null,
            "_view_module_version": "1.5.0",
            "description_tooltip": null,
            "_model_module": "@jupyter-widgets/controls",
            "layout": "IPY_MODEL_397a59e2b680451cbdb84136087e0a21"
          }
        },
        "f97e2464792f41bb9b51dfa5195d8e5e": {
          "model_module": "@jupyter-widgets/controls",
          "model_name": "FloatProgressModel",
          "model_module_version": "1.5.0",
          "state": {
            "_view_name": "ProgressView",
            "style": "IPY_MODEL_42aa81dc06a5478fbdaa0e525b48b09a",
            "_dom_classes": [],
            "description": "",
            "_model_name": "FloatProgressModel",
            "bar_style": "success",
            "max": 10,
            "_view_module": "@jupyter-widgets/controls",
            "_model_module_version": "1.5.0",
            "value": 10,
            "_view_count": null,
            "_view_module_version": "1.5.0",
            "orientation": "horizontal",
            "min": 0,
            "description_tooltip": null,
            "_model_module": "@jupyter-widgets/controls",
            "layout": "IPY_MODEL_e10aba45cc17453cb22aea9058084aca"
          }
        },
        "de22d7f31eca41feb40511b740d92caa": {
          "model_module": "@jupyter-widgets/controls",
          "model_name": "HTMLModel",
          "model_module_version": "1.5.0",
          "state": {
            "_view_name": "HTMLView",
            "style": "IPY_MODEL_60bb7d161f304204a2ed377299a518a6",
            "_dom_classes": [],
            "description": "",
            "_model_name": "HTMLModel",
            "placeholder": "​",
            "_view_module": "@jupyter-widgets/controls",
            "_model_module_version": "1.5.0",
            "value": " 10/10 [00:08&lt;00:00,  1.09it/s]",
            "_view_count": null,
            "_view_module_version": "1.5.0",
            "description_tooltip": null,
            "_model_module": "@jupyter-widgets/controls",
            "layout": "IPY_MODEL_f80802bee7a6471aa928879177aa7089"
          }
        },
        "63c1fbff72fb4ddb919e483df689831e": {
          "model_module": "@jupyter-widgets/controls",
          "model_name": "DescriptionStyleModel",
          "model_module_version": "1.5.0",
          "state": {
            "_view_name": "StyleView",
            "_model_name": "DescriptionStyleModel",
            "description_width": "",
            "_view_module": "@jupyter-widgets/base",
            "_model_module_version": "1.5.0",
            "_view_count": null,
            "_view_module_version": "1.2.0",
            "_model_module": "@jupyter-widgets/controls"
          }
        },
        "397a59e2b680451cbdb84136087e0a21": {
          "model_module": "@jupyter-widgets/base",
          "model_name": "LayoutModel",
          "model_module_version": "1.2.0",
          "state": {
            "_view_name": "LayoutView",
            "grid_template_rows": null,
            "right": null,
            "justify_content": null,
            "_view_module": "@jupyter-widgets/base",
            "overflow": null,
            "_model_module_version": "1.2.0",
            "_view_count": null,
            "flex_flow": null,
            "width": null,
            "min_width": null,
            "border": null,
            "align_items": null,
            "bottom": null,
            "_model_module": "@jupyter-widgets/base",
            "top": null,
            "grid_column": null,
            "overflow_y": null,
            "overflow_x": null,
            "grid_auto_flow": null,
            "grid_area": null,
            "grid_template_columns": null,
            "flex": null,
            "_model_name": "LayoutModel",
            "justify_items": null,
            "grid_row": null,
            "max_height": null,
            "align_content": null,
            "visibility": null,
            "align_self": null,
            "height": null,
            "min_height": null,
            "padding": null,
            "grid_auto_rows": null,
            "grid_gap": null,
            "max_width": null,
            "order": null,
            "_view_module_version": "1.2.0",
            "grid_template_areas": null,
            "object_position": null,
            "object_fit": null,
            "grid_auto_columns": null,
            "margin": null,
            "display": null,
            "left": null
          }
        },
        "42aa81dc06a5478fbdaa0e525b48b09a": {
          "model_module": "@jupyter-widgets/controls",
          "model_name": "ProgressStyleModel",
          "model_module_version": "1.5.0",
          "state": {
            "_view_name": "StyleView",
            "_model_name": "ProgressStyleModel",
            "description_width": "",
            "_view_module": "@jupyter-widgets/base",
            "_model_module_version": "1.5.0",
            "_view_count": null,
            "_view_module_version": "1.2.0",
            "bar_color": null,
            "_model_module": "@jupyter-widgets/controls"
          }
        },
        "e10aba45cc17453cb22aea9058084aca": {
          "model_module": "@jupyter-widgets/base",
          "model_name": "LayoutModel",
          "model_module_version": "1.2.0",
          "state": {
            "_view_name": "LayoutView",
            "grid_template_rows": null,
            "right": null,
            "justify_content": null,
            "_view_module": "@jupyter-widgets/base",
            "overflow": null,
            "_model_module_version": "1.2.0",
            "_view_count": null,
            "flex_flow": null,
            "width": null,
            "min_width": null,
            "border": null,
            "align_items": null,
            "bottom": null,
            "_model_module": "@jupyter-widgets/base",
            "top": null,
            "grid_column": null,
            "overflow_y": null,
            "overflow_x": null,
            "grid_auto_flow": null,
            "grid_area": null,
            "grid_template_columns": null,
            "flex": null,
            "_model_name": "LayoutModel",
            "justify_items": null,
            "grid_row": null,
            "max_height": null,
            "align_content": null,
            "visibility": null,
            "align_self": null,
            "height": null,
            "min_height": null,
            "padding": null,
            "grid_auto_rows": null,
            "grid_gap": null,
            "max_width": null,
            "order": null,
            "_view_module_version": "1.2.0",
            "grid_template_areas": null,
            "object_position": null,
            "object_fit": null,
            "grid_auto_columns": null,
            "margin": null,
            "display": null,
            "left": null
          }
        },
        "60bb7d161f304204a2ed377299a518a6": {
          "model_module": "@jupyter-widgets/controls",
          "model_name": "DescriptionStyleModel",
          "model_module_version": "1.5.0",
          "state": {
            "_view_name": "StyleView",
            "_model_name": "DescriptionStyleModel",
            "description_width": "",
            "_view_module": "@jupyter-widgets/base",
            "_model_module_version": "1.5.0",
            "_view_count": null,
            "_view_module_version": "1.2.0",
            "_model_module": "@jupyter-widgets/controls"
          }
        },
        "f80802bee7a6471aa928879177aa7089": {
          "model_module": "@jupyter-widgets/base",
          "model_name": "LayoutModel",
          "model_module_version": "1.2.0",
          "state": {
            "_view_name": "LayoutView",
            "grid_template_rows": null,
            "right": null,
            "justify_content": null,
            "_view_module": "@jupyter-widgets/base",
            "overflow": null,
            "_model_module_version": "1.2.0",
            "_view_count": null,
            "flex_flow": null,
            "width": null,
            "min_width": null,
            "border": null,
            "align_items": null,
            "bottom": null,
            "_model_module": "@jupyter-widgets/base",
            "top": null,
            "grid_column": null,
            "overflow_y": null,
            "overflow_x": null,
            "grid_auto_flow": null,
            "grid_area": null,
            "grid_template_columns": null,
            "flex": null,
            "_model_name": "LayoutModel",
            "justify_items": null,
            "grid_row": null,
            "max_height": null,
            "align_content": null,
            "visibility": null,
            "align_self": null,
            "height": null,
            "min_height": null,
            "padding": null,
            "grid_auto_rows": null,
            "grid_gap": null,
            "max_width": null,
            "order": null,
            "_view_module_version": "1.2.0",
            "grid_template_areas": null,
            "object_position": null,
            "object_fit": null,
            "grid_auto_columns": null,
            "margin": null,
            "display": null,
            "left": null
          }
        }
      }
    },
    "accelerator": "GPU"
  },
  "cells": [
    {
      "cell_type": "code",
      "metadata": {
        "colab": {
          "base_uri": "https://localhost:8080/"
        },
        "id": "T2tYIsSfcNra",
        "outputId": "437cca42-e0aa-4802-a19e-b5d739ddaac9"
      },
      "source": [
        "import yaml\n",
        "import easydict\n",
        "import os\n",
        "from os.path import join\n",
        "from google.colab import drive\n",
        "import argparse\n",
        "\n",
        "!pip install easydl\n",
        "!pip install tensorboardX\n",
        "from torchvision import models\n",
        "from easydl import *\n",
        "from collections import Counter\n",
        "from torchvision.transforms.transforms import *\n",
        "from torch.utils.data import DataLoader, WeightedRandomSampler\n",
        "\n",
        "import datetime\n",
        "from tqdm import tqdm\n",
        "if is_in_notebook():\n",
        "    from tqdm import tqdm_notebook as tqdm\n",
        "from torch import optim\n",
        "from tensorboardX import SummaryWriter\n",
        "import torch.backends.cudnn as cudnn"
      ],
      "execution_count": 1,
      "outputs": [
        {
          "output_type": "stream",
          "name": "stdout",
          "text": [
            "Collecting easydl\n",
            "  Downloading easydl-2.0.7.tar.gz (15 kB)\n",
            "Requirement already satisfied: torch in /usr/local/lib/python3.7/dist-packages (from easydl) (1.9.0+cu111)\n",
            "Requirement already satisfied: torchvision in /usr/local/lib/python3.7/dist-packages (from easydl) (0.10.0+cu111)\n",
            "Requirement already satisfied: matplotlib in /usr/local/lib/python3.7/dist-packages (from easydl) (3.2.2)\n",
            "Collecting pathlib2\n",
            "  Downloading pathlib2-2.3.6-py2.py3-none-any.whl (17 kB)\n",
            "Requirement already satisfied: six in /usr/local/lib/python3.7/dist-packages (from easydl) (1.15.0)\n",
            "Requirement already satisfied: python-dateutil>=2.1 in /usr/local/lib/python3.7/dist-packages (from matplotlib->easydl) (2.8.2)\n",
            "Requirement already satisfied: cycler>=0.10 in /usr/local/lib/python3.7/dist-packages (from matplotlib->easydl) (0.10.0)\n",
            "Requirement already satisfied: numpy>=1.11 in /usr/local/lib/python3.7/dist-packages (from matplotlib->easydl) (1.19.5)\n",
            "Requirement already satisfied: kiwisolver>=1.0.1 in /usr/local/lib/python3.7/dist-packages (from matplotlib->easydl) (1.3.2)\n",
            "Requirement already satisfied: pyparsing!=2.0.4,!=2.1.2,!=2.1.6,>=2.0.1 in /usr/local/lib/python3.7/dist-packages (from matplotlib->easydl) (2.4.7)\n",
            "Requirement already satisfied: typing-extensions in /usr/local/lib/python3.7/dist-packages (from torch->easydl) (3.7.4.3)\n",
            "Requirement already satisfied: pillow>=5.3.0 in /usr/local/lib/python3.7/dist-packages (from torchvision->easydl) (7.1.2)\n",
            "Building wheels for collected packages: easydl\n",
            "  Building wheel for easydl (setup.py) ... \u001b[?25l\u001b[?25hdone\n",
            "  Created wheel for easydl: filename=easydl-2.0.7-py3-none-any.whl size=19797 sha256=635618b2d7d6779d34244d7f9647a31e176c2669c81194cdedbf23449bf45dab\n",
            "  Stored in directory: /root/.cache/pip/wheels/05/e0/8f/b8456f938e69b862cecfa8f03f7a063cfb77a2f253ed28ce3a\n",
            "Successfully built easydl\n",
            "Installing collected packages: pathlib2, easydl\n",
            "Successfully installed easydl-2.0.7 pathlib2-2.3.6\n",
            "Collecting tensorboardX\n",
            "  Downloading tensorboardX-2.4-py2.py3-none-any.whl (124 kB)\n",
            "\u001b[K     |████████████████████████████████| 124 kB 5.2 MB/s \n",
            "\u001b[?25hRequirement already satisfied: protobuf>=3.8.0 in /usr/local/lib/python3.7/dist-packages (from tensorboardX) (3.17.3)\n",
            "Requirement already satisfied: numpy in /usr/local/lib/python3.7/dist-packages (from tensorboardX) (1.19.5)\n",
            "Requirement already satisfied: six>=1.9 in /usr/local/lib/python3.7/dist-packages (from protobuf>=3.8.0->tensorboardX) (1.15.0)\n",
            "Installing collected packages: tensorboardX\n",
            "Successfully installed tensorboardX-2.4\n",
            "[easydl] tensorflow not available!\n"
          ]
        }
      ]
    },
    {
      "cell_type": "code",
      "metadata": {
        "colab": {
          "base_uri": "https://localhost:8080/",
          "height": 35
        },
        "id": "gUVIolbr0Xzr",
        "outputId": "7469f86b-8a22-422e-e61b-202c208ad3da"
      },
      "source": [
        "torch.cuda.get_device_name(0)"
      ],
      "execution_count": 2,
      "outputs": [
        {
          "output_type": "execute_result",
          "data": {
            "application/vnd.google.colaboratory.intrinsic+json": {
              "type": "string"
            },
            "text/plain": [
              "'Tesla K80'"
            ]
          },
          "metadata": {},
          "execution_count": 2
        }
      ]
    },
    {
      "cell_type": "code",
      "metadata": {
        "id": "Ufpvfbjbv1wD"
      },
      "source": [
        "import numpy as np\n",
        "import matplotlib.pyplot as plt\n",
        "from scipy import ndimage as ndi\n",
        "from skimage.util import random_noise\n",
        "from skimage import feature\n",
        "from PIL import Image\n",
        "\n",
        "from google.colab import drive"
      ],
      "execution_count": 3,
      "outputs": []
    },
    {
      "cell_type": "code",
      "metadata": {
        "colab": {
          "base_uri": "https://localhost:8080/"
        },
        "id": "4cPAc2dbdKBU",
        "outputId": "3f6ddcfe-a096-4cdb-8ae6-10411be7f961"
      },
      "source": [
        "drive.mount(\"/content/drive/\")"
      ],
      "execution_count": 4,
      "outputs": [
        {
          "output_type": "stream",
          "name": "stdout",
          "text": [
            "Mounted at /content/drive/\n"
          ]
        }
      ]
    },
    {
      "cell_type": "code",
      "metadata": {
        "id": "n19WYsQGdfet"
      },
      "source": [
        "os.chdir(\"/content/drive/MyDrive\")"
      ],
      "execution_count": 5,
      "outputs": []
    },
    {
      "cell_type": "code",
      "metadata": {
        "id": "TV1PjLU7c-AC"
      },
      "source": [
        "class Dataset:\n",
        "    def __init__(self, path, domains, files, prefix):\n",
        "        self.path = path\n",
        "        self.prefix = prefix\n",
        "        self.domains = domains\n",
        "        self.files = [(join(path, file)) for file in files]\n",
        "        self.prefixes = [self.prefix] * len(self.domains)\n",
        "\n",
        "\n",
        "parser = argparse.ArgumentParser(description='Code for *Universal Domain Adaptation*',\n",
        "                                 formatter_class=argparse.ArgumentDefaultsHelpFormatter)\n",
        "parser.add_argument('-f')\n",
        "parser.add_argument('--config', type=str, default='office-train-config.yaml', help='/path/to/config/file')\n",
        "\n",
        "args = parser.parse_args()\n",
        "\n",
        "config_file = args.config\n",
        "\n",
        "args = yaml.safe_load(open(config_file))\n",
        "\n",
        "save_config = yaml.safe_load(open(config_file))\n",
        "\n",
        "args = easydict.EasyDict(args)\n",
        "\n",
        "dataset = None\n",
        "if args.data.dataset.name == 'office':\n",
        "    dataset = Dataset(\n",
        "    path=args.data.dataset.root_path,\n",
        "    domains=['amazon', 'dslr', 'webcam'],\n",
        "    files=[\n",
        "        'amazon_reorgnized.txt',\n",
        "        'dslr_reorgnized.txt',\n",
        "        'webcam_reorgnized.txt'\n",
        "    ],\n",
        "    prefix=args.data.dataset.root_path)\n",
        "    "
      ],
      "execution_count": 6,
      "outputs": []
    },
    {
      "cell_type": "code",
      "metadata": {
        "id": "x2S0x-mIxUtq",
        "colab": {
          "base_uri": "https://localhost:8080/"
        },
        "outputId": "08df3e5e-9ea5-4ad3-c375-7f7491b3fa97"
      },
      "source": [
        "print(args.data.dataset)"
      ],
      "execution_count": null,
      "outputs": [
        {
          "output_type": "stream",
          "name": "stdout",
          "text": [
            "{'name': 'office', 'root_path': 'data/office', 'source': 0, 'target': 1, 'n_share': 10, 'n_source_private': 10, 'n_total': 31}\n"
          ]
        }
      ]
    },
    {
      "cell_type": "code",
      "metadata": {
        "id": "_snmMUYVfgUe"
      },
      "source": [
        "source_domain_name = dataset.domains[args.data.dataset.source]\n",
        "target_domain_name = dataset.domains[args.data.dataset.target]\n",
        "source_file = dataset.files[args.data.dataset.source]\n",
        "target_file = dataset.files[args.data.dataset.target]"
      ],
      "execution_count": 7,
      "outputs": []
    },
    {
      "cell_type": "code",
      "metadata": {
        "id": "rN86kMFZxe-Q",
        "colab": {
          "base_uri": "https://localhost:8080/"
        },
        "outputId": "1aca02f4-11bf-4a2c-983b-130fbc029fc2"
      },
      "source": [
        "print(source_domain_name)\n",
        "print(target_domain_name)\n",
        "print(dataset.domains)"
      ],
      "execution_count": null,
      "outputs": [
        {
          "output_type": "stream",
          "name": "stdout",
          "text": [
            "amazon\n",
            "dslr\n",
            "['amazon', 'dslr', 'webcam']\n"
          ]
        }
      ]
    },
    {
      "cell_type": "code",
      "metadata": {
        "colab": {
          "base_uri": "https://localhost:8080/"
        },
        "id": "Etm8Jidue4R8",
        "outputId": "6d38a8c8-29a3-4ef4-dd2e-af150e1b768e"
      },
      "source": [
        "a, b, c = args.data.dataset.n_share, args.data.dataset.n_source_private, args.data.dataset.n_total\n",
        "c = c - a - b\n",
        "common_classes = [i for i in range(a)]\n",
        "source_private_classes = [i + a for i in range(b)]\n",
        "target_private_classes = [i + a + b for i in range(c)]\n",
        "\n",
        "source_classes = common_classes + source_private_classes\n",
        "target_classes = common_classes + target_private_classes\n",
        "\n",
        "print(common_classes)\n",
        "print(source_classes)\n",
        "print(target_classes)\n",
        "\n",
        "print(len(source_classes))\n",
        "print(len(target_classes))\n"
      ],
      "execution_count": 8,
      "outputs": [
        {
          "output_type": "stream",
          "name": "stdout",
          "text": [
            "[0, 1, 2, 3, 4, 5, 6, 7, 8, 9]\n",
            "[0, 1, 2, 3, 4, 5, 6, 7, 8, 9, 10, 11, 12, 13, 14, 15, 16, 17, 18, 19]\n",
            "[0, 1, 2, 3, 4, 5, 6, 7, 8, 9, 20, 21, 22, 23, 24, 25, 26, 27, 28, 29, 30]\n",
            "20\n",
            "21\n"
          ]
        }
      ]
    },
    {
      "cell_type": "code",
      "metadata": {
        "id": "Oh8vvQmOzdW2"
      },
      "source": [
        "source_classes = common_classes + source_private_classes\n",
        "target_classes = common_classes + target_private_classes\n",
        "\n",
        "train_transform = Compose([\n",
        "    Resize(256),\n",
        "    RandomCrop(224),\n",
        "    RandomHorizontalFlip(),\n",
        "    ToTensor()\n",
        "])\n",
        "\n",
        "test_transform = Compose([\n",
        "    Resize(256),\n",
        "    CenterCrop(224),\n",
        "    ToTensor()\n",
        "])\n",
        "\n",
        "source_train_ds = FileListDataset(list_path=source_file, path_prefix=dataset.prefixes[args.data.dataset.source],\n",
        "                            transform=train_transform, filter=(lambda x: x in source_classes))\n",
        "source_test_ds = FileListDataset(list_path=source_file,path_prefix=dataset.prefixes[args.data.dataset.source],\n",
        "                            transform=test_transform, filter=(lambda x: x in source_classes))\n",
        "target_train_ds = FileListDataset(list_path=target_file, path_prefix=dataset.prefixes[args.data.dataset.target],\n",
        "                            transform=train_transform, filter=(lambda x: x in target_classes))\n",
        "target_test_ds = FileListDataset(list_path=target_file, path_prefix=dataset.prefixes[args.data.dataset.target],\n",
        "                            transform=test_transform, filter=(lambda x: x in target_classes))\n",
        "\n"
      ],
      "execution_count": 9,
      "outputs": []
    },
    {
      "cell_type": "code",
      "metadata": {
        "id": "xGuKpCu0EqoP"
      },
      "source": [
        "classes = source_train_ds.labels\n",
        "\n",
        "freq = Counter(classes)\n",
        "class_weight = {x : 1.0 / freq[x] if args.data.dataloader.class_balance else 1.0 for x in freq}\n",
        "\n",
        "source_weights = [class_weight[x] for x in source_train_ds.labels]\n",
        "sampler = WeightedRandomSampler(source_weights, len(source_train_ds.labels))"
      ],
      "execution_count": 11,
      "outputs": []
    },
    {
      "cell_type": "code",
      "metadata": {
        "id": "x_Yof-OjEn_d"
      },
      "source": [
        "\n",
        "\n",
        "source_train_dl = DataLoader(dataset=source_train_ds, batch_size=args.data.dataloader.batch_size,\n",
        "                             sampler=sampler, num_workers=args.data.dataloader.data_workers, drop_last=True)\n",
        "source_test_dl = DataLoader(dataset=source_test_ds, batch_size=args.data.dataloader.batch_size, shuffle=False,\n",
        "                             num_workers=1, drop_last=False)\n",
        "target_train_dl = DataLoader(dataset=target_train_ds, batch_size=args.data.dataloader.batch_size,shuffle=True,\n",
        "                             num_workers=args.data.dataloader.data_workers, drop_last=True)\n",
        "target_test_dl = DataLoader(dataset=target_test_ds, batch_size=args.data.dataloader.batch_size, shuffle=False,\n",
        "                             num_workers=1, drop_last=False)\n",
        "\n"
      ],
      "execution_count": 12,
      "outputs": []
    },
    {
      "cell_type": "code",
      "metadata": {
        "id": "CkLdufobfjSe"
      },
      "source": [
        "def reverse_sigmoid(y):\n",
        "    return torch.log(y / (1.0 - y + 1e-10) + 1e-10)\n",
        "\n",
        "\n",
        "def get_source_share_weight(domain_out, before_softmax, domain_temperature=1.0, class_temperature=10.0):\n",
        "    before_softmax = before_softmax / class_temperature\n",
        "    after_softmax = nn.Softmax(-1)(before_softmax)\n",
        "    domain_logit = reverse_sigmoid(domain_out)\n",
        "    domain_logit = domain_logit / domain_temperature\n",
        "    domain_out = nn.Sigmoid()(domain_logit)\n",
        "    \n",
        "    entropy = torch.sum(- after_softmax * torch.log(after_softmax + 1e-10), dim=1, keepdim=True)\n",
        "    entropy_norm = entropy / np.log(after_softmax.size(1))\n",
        "    weight = entropy_norm - domain_out\n",
        "    weight = weight.detach()\n",
        "    return weight\n",
        "\n",
        "\n",
        "def get_target_share_weight(domain_out, before_softmax, domain_temperature=1.0, class_temperature=10.0):\n",
        "    return - get_source_share_weight(domain_out, before_softmax, domain_temperature, class_temperature)\n",
        "\n",
        "\n",
        "def normalize_weight(x):\n",
        "    min_val = x.min()\n",
        "    max_val = x.max()\n",
        "    x = (x - min_val) / (max_val - min_val)\n",
        "    x = x / torch.mean(x)\n",
        "    return x.detach()\n",
        "\n",
        "\n",
        "def seed_everything(seed=1234):\n",
        "    import random\n",
        "    random.seed(seed)\n",
        "    torch.manual_seed(seed)\n",
        "    torch.cuda.manual_seed_all(seed)\n",
        "    np.random.seed(seed)\n",
        "    import os\n",
        "    os.environ['PYTHONHASHSEED'] = str(seed)"
      ],
      "execution_count": 13,
      "outputs": []
    },
    {
      "cell_type": "code",
      "metadata": {
        "id": "eKSABAtGHksP"
      },
      "source": [
        "def outlier(each_target_share_weight):\n",
        "    return each_target_share_weight < args.test.w_0\n"
      ],
      "execution_count": 14,
      "outputs": []
    },
    {
      "cell_type": "code",
      "metadata": {
        "id": "rNS1j_5nfmpB"
      },
      "source": [
        "class BaseFeatureExtractor(nn.Module):\n",
        "    def forward(self, *input):\n",
        "        pass\n",
        "\n",
        "    def __init__(self):\n",
        "        super(BaseFeatureExtractor, self).__init__()\n",
        "\n",
        "    def output_num(self):\n",
        "        pass\n",
        "\n",
        "    def train(self, mode=True):\n",
        "        # freeze BN mean and std\n",
        "        for module in self.children():\n",
        "            if isinstance(module, nn.BatchNorm2d):\n",
        "                module.train(False)\n",
        "            else:\n",
        "                module.train(mode)\n",
        "\n",
        "\n",
        "class ResNet50Fc(BaseFeatureExtractor):\n",
        "    \"\"\"\n",
        "    ** input image should be in range of [0, 1]**\n",
        "    \"\"\"\n",
        "    def __init__(self,model_path=args.model.pretrained_model, normalize=True, canny=False):\n",
        "        super(ResNet50Fc, self).__init__()\n",
        "        if model_path:\n",
        "            if os.path.exists(model_path):\n",
        "                self.model_resnet = models.resnet50(pretrained=False)\n",
        "                self.model_resnet.load_state_dict(torch.load(model_path))\n",
        "            else:\n",
        "                #print(args.model.pretrained_model)\n",
        "                raise Exception('invalid model path!')\n",
        "        else:\n",
        "            self.model_resnet = models.resnet50(pretrained=True)\n",
        "\n",
        "        if model_path or normalize:\n",
        "            # pretrain model is used, use ImageNet normalization\n",
        "            self.normalize = True\n",
        "            self.register_buffer('mean', torch.tensor([0.485, 0.456, 0.406]).view(1, 3, 1, 1))\n",
        "            self.register_buffer('std', torch.tensor([0.229, 0.224, 0.225]).view(1, 3, 1, 1))\n",
        "        else:\n",
        "            self.normalize = canny\n",
        "        self.canny = False\n",
        "        model_resnet = self.model_resnet\n",
        "        self.conv1 = model_resnet.conv1\n",
        "        self.bn1 = model_resnet.bn1\n",
        "        self.relu = model_resnet.relu\n",
        "        self.maxpool = model_resnet.maxpool\n",
        "        self.layer1 = model_resnet.layer1\n",
        "        self.layer2 = model_resnet.layer2\n",
        "        self.layer3 = model_resnet.layer3\n",
        "        self.layer4 = model_resnet.layer4\n",
        "        self.avgpool = model_resnet.avgpool\n",
        "        self.__in_features = model_resnet.fc.in_features\n",
        "\n",
        "    def forward(self, x):\n",
        "        if self.normalize:\n",
        "            x = (x - self.mean) / self.std\n",
        "        if self.canny:\n",
        "            #print(x.shape)\n",
        "            x = torch.mean(x, axis=1)\n",
        "            xx = x.cpu().detach().numpy()\n",
        "            edges1 = np.array([feature.canny(i) for i in xx])        \n",
        "            edges1 = np.stack((edges1,)*3, axis=1)\n",
        "            x = torch.from_numpy(edges1)\n",
        "            x = x.to('cuda', dtype=torch.float)\n",
        "        x = self.conv1(x)\n",
        "        x = self.bn1(x)\n",
        "        x = self.relu(x)\n",
        "        x = self.maxpool(x)\n",
        "        x = self.layer1(x)\n",
        "        x = self.layer2(x)\n",
        "        x = self.layer3(x)\n",
        "        x = self.layer4(x)\n",
        "        x = self.avgpool(x)\n",
        "        x = x.view(x.size(0), -1)\n",
        "        return x\n",
        "\n",
        "    def output_num(self):\n",
        "        return self.__in_features\n",
        "\n",
        "\n",
        "class CLS(nn.Module):\n",
        "    \"\"\"\n",
        "    a two-layer MLP for classification\n",
        "    \"\"\"\n",
        "    def __init__(self, in_dim, out_dim, bottle_neck_dim=256):\n",
        "        super(CLS, self).__init__()\n",
        "        self.bottleneck = nn.Linear(in_dim, bottle_neck_dim)\n",
        "        self.fc = nn.Linear(bottle_neck_dim, out_dim)\n",
        "        self.main = nn.Sequential(self.bottleneck, self.fc, nn.Softmax(dim=-1))\n",
        "\n",
        "    def forward(self, x):\n",
        "        out = [x]\n",
        "        for module in self.main.children():\n",
        "            x = module(x)\n",
        "            out.append(x)\n",
        "        return out\n",
        "\n",
        "\n",
        "class AdversarialNetwork(nn.Module):\n",
        "    def __init__(self, in_feature):\n",
        "        super(AdversarialNetwork, self).__init__()\n",
        "        self.main = nn.Sequential(\n",
        "            nn.Linear(in_feature, 1024),\n",
        "            nn.ReLU(inplace=True),\n",
        "            nn.Dropout(0.5),\n",
        "            nn.Linear(1024,1024),\n",
        "            nn.ReLU(inplace=True),\n",
        "            nn.Dropout(0.5),\n",
        "            nn.Linear(1024, 1),\n",
        "            nn.Sigmoid()\n",
        "        )\n",
        "        self.grl = GradientReverseModule(lambda step: aToBSheduler(step, 0.0, 1.0, gamma=10, max_iter=10000))\n",
        "\n",
        "    def forward(self, x):\n",
        "        x_ = self.grl(x)\n",
        "        y = self.main(x_)\n",
        "        return y"
      ],
      "execution_count": 15,
      "outputs": []
    },
    {
      "cell_type": "code",
      "metadata": {
        "colab": {
          "base_uri": "https://localhost:8080/"
        },
        "id": "Qvq7CI99f128",
        "outputId": "be1ca5dc-966f-4ddb-d35b-5b322a6355c8"
      },
      "source": [
        "cudnn.benchmark = True\n",
        "cudnn.deterministic = True\n",
        "\n",
        "seed_everything()\n",
        "torch.multiprocessing.freeze_support()\n",
        "# if args.misc.gpus < 1:\n",
        "#     import os\n",
        "#     os.environ[\"CUDA_VISIBLE_DEVICES\"] = \"\"\n",
        "#     gpu_ids = []\n",
        "#     output_device = torch.device('cpu')\n",
        "# else:\n",
        "#     gpu_ids = select_GPUs(args.misc.gpus)\n",
        "#     output_device = gpu_ids[0]\n",
        "gpu_ids = [0]\n",
        "output_device = 'cuda' if torch.cuda.is_available() else 'cpu'\n",
        "print(output_device)\n",
        "#exit()\n",
        "now = datetime.datetime.now().strftime('%b%d_%H-%M-%S')\n",
        "\n",
        "log_dir = f'{args.log.root_dir}/{now}'\n",
        "print(log_dir)\n",
        "logger = SummaryWriter(log_dir)\n",
        "\n",
        "# with open(join(log_dir, 'config.yaml'), 'w') as f:\n",
        "#     f.write(yaml.dump(save_config))\n",
        "\n",
        "model_dict = {\n",
        "    'resnet50': ResNet50Fc,\n",
        "}\n",
        "\n",
        "\n",
        "class TotalNet(nn.Module):\n",
        "    def __init__(self, canny):\n",
        "        super(TotalNet, self).__init__()\n",
        "        self.feature_extractor = ResNet50Fc(canny=canny)\n",
        "        classifier_output_dim = len(source_classes)\n",
        "        self.classifier = CLS(self.feature_extractor.output_num(), classifier_output_dim, bottle_neck_dim=256)\n",
        "        self.discriminator = AdversarialNetwork(256)\n",
        "        self.discriminator_separate = AdversarialNetwork(256)\n",
        "\n",
        "    def forward(self, x):\n",
        "        f = self.feature_extractor(x)\n",
        "        f, _, __, y = self.classifier(f)\n",
        "        d = self.discriminator(_)\n",
        "        d_0 = self.discriminator_separate(_)\n",
        "        return y, d, d_0\n",
        "\n",
        "\n",
        "\n",
        "\n"
      ],
      "execution_count": 16,
      "outputs": [
        {
          "output_type": "stream",
          "name": "stdout",
          "text": [
            "cuda\n",
            "log/Nov07_07-08-23\n"
          ]
        }
      ]
    },
    {
      "cell_type": "code",
      "metadata": {
        "id": "Z0XKQO-fHXVM"
      },
      "source": [
        "totalNet = TotalNet(canny=False)\n",
        "\n",
        "feature_extractor = nn.DataParallel(totalNet.feature_extractor, device_ids=gpu_ids, output_device=output_device).train(True)\n",
        "classifier = nn.DataParallel(totalNet.classifier, device_ids=gpu_ids, output_device=output_device).train(True)\n",
        "discriminator = nn.DataParallel(totalNet.discriminator, device_ids=gpu_ids, output_device=output_device).train(True)\n",
        "discriminator_separate = nn.DataParallel(totalNet.discriminator_separate, device_ids=gpu_ids, output_device=output_device).train(True)\n"
      ],
      "execution_count": 17,
      "outputs": []
    },
    {
      "cell_type": "code",
      "metadata": {
        "id": "ABI4_hbphCRN"
      },
      "source": [
        "def test():\n",
        "    counters = [AccuracyCounter() for x in range(len(source_classes) + 1)]\n",
        "    mgr = TrainingModeManager([feature_extractor, classifier, discriminator_separate], train=False)\n",
        "    target_accumulator =  Accumulator(['feature__', 'predict_prob', 'label', 'domain_prob', 'before_softmax',\n",
        "                         'target_share_weight'])\n",
        "    with   torch.no_grad():\n",
        "        feature_extractor.eval()\n",
        "        classifier.eval()\n",
        "        discriminator.eval()\n",
        "        discriminator_separate.eval()\n",
        "        for i, (im, label) in enumerate(tqdm(target_test_dl, desc='testing ')):\n",
        "            im = im.to(output_device)\n",
        "            label = label.to(output_device)\n",
        "\n",
        "            feature__ = feature_extractor.forward(im)\n",
        "            feature__, __, before_softmax, predict_prob = classifier.forward(feature__)\n",
        "            domain_prob = discriminator_separate.forward(__)\n",
        "\n",
        "            target_share_weight = get_target_share_weight(domain_prob, before_softmax, domain_temperature=1.0,\n",
        "                                                          class_temperature=1.0)\n",
        "            \n",
        "\n",
        "            for (each_predict_prob, each_label, each_target_share_weight) in zip(predict_prob, label, target_share_weight):\n",
        "                if each_label in source_classes:\n",
        "                    counters[each_label].Ntotal += 1.0\n",
        "                    each_pred_id = torch.argmax(each_predict_prob)\n",
        "                    if not outlier(each_target_share_weight[0]) and each_pred_id == each_label:\n",
        "                        counters[each_label].Ncorrect += 1.0\n",
        "                else:\n",
        "                    counters[-1].Ntotal += 1.0\n",
        "                    if outlier(each_target_share_weight[0]):\n",
        "                        counters[-1].Ncorrect += 1.0\n",
        "\n",
        "    acc_tests = [x.reportAccuracy() for x in counters if not np.isnan(x.reportAccuracy())]\n",
        "    acc_test = torch.ones(1, 1) * np.mean(acc_tests)\n",
        "    print(acc_tests)\n",
        "    print(f'test accuracy is {acc_test.item()}')\n",
        " \n",
        "\n"
      ],
      "execution_count": 28,
      "outputs": []
    },
    {
      "cell_type": "code",
      "metadata": {
        "id": "a0d3h71V4rXf"
      },
      "source": [
        "data = torch.load(open('log/Nov06_20-41-42_van_nobatch/best.pkl', 'rb'), map_location=output_device)"
      ],
      "execution_count": 18,
      "outputs": []
    },
    {
      "cell_type": "code",
      "metadata": {
        "id": "me46T7x456iW",
        "colab": {
          "base_uri": "https://localhost:8080/"
        },
        "outputId": "2eb5d9a2-f305-4262-e181-6bae1988967e"
      },
      "source": [
        "feature_extractor.load_state_dict(data['feature_extractor'])\n",
        "classifier.load_state_dict(data['classifier'])\n",
        "discriminator.load_state_dict(data['discriminator'])\n",
        "discriminator_separate.load_state_dict(data['discriminator_separate'])"
      ],
      "execution_count": 19,
      "outputs": [
        {
          "output_type": "execute_result",
          "data": {
            "text/plain": [
              "<All keys matched successfully>"
            ]
          },
          "metadata": {},
          "execution_count": 19
        }
      ]
    },
    {
      "cell_type": "code",
      "metadata": {
        "id": "O2BeCW_NI7h3"
      },
      "source": [
        "torch.cuda.empty_cache()"
      ],
      "execution_count": 20,
      "outputs": []
    },
    {
      "cell_type": "code",
      "metadata": {
        "id": "Yofdg_h3uITg",
        "colab": {
          "base_uri": "https://localhost:8080/",
          "height": 100,
          "referenced_widgets": [
            "7bd272fb54ba460db5841db0b957fc57",
            "e1c70642f36248b2bff0400c773fe0b0",
            "7aeaf27a6d3f4ccd97fe1467fbc5296b",
            "0321af7f44bf4230b1b9bdb35fd06fd5",
            "29b5d84cac084fcb85af03d599bc341d",
            "e149af69e5a649518de3a8cfb3078675",
            "38818e9639c54b17bb205c4b15fa1ec6",
            "2493670fef4241b88b0babcbe61a3f62",
            "1fef03873f2a41589b01f640fe287f1c",
            "c94c3d7a9e324b76b0859da74956376d",
            "3c0df8b7ff1949adaaba855c8fa7b256"
          ]
        },
        "outputId": "a4802bbf-fb9f-4b44-a25a-ee7dbad218d7"
      },
      "source": [
        "print('UAN_vanilla_nobatch')\n",
        "test()"
      ],
      "execution_count": 29,
      "outputs": [
        {
          "output_type": "stream",
          "name": "stdout",
          "text": [
            "UAN_vanilla_nobatch\n"
          ]
        },
        {
          "output_type": "display_data",
          "data": {
            "application/vnd.jupyter.widget-view+json": {
              "model_id": "7bd272fb54ba460db5841db0b957fc57",
              "version_minor": 0,
              "version_major": 2
            },
            "text/plain": [
              "testing :   0%|          | 0/10 [00:00<?, ?it/s]"
            ]
          },
          "metadata": {}
        },
        {
          "output_type": "stream",
          "name": "stdout",
          "text": [
            "[1.0, 0.8095238095238095, 1.0, 0.8461538461538461, 0.8, 0.7916666666666666, 0.6818181818181818, 0.9166666666666666, 0.875, 0.4782608695652174, 0.34285714285714286]\n",
            "test accuracy is 0.7765406370162964\n"
          ]
        }
      ]
    },
    {
      "cell_type": "code",
      "metadata": {
        "id": "6CB4bes6X726"
      },
      "source": [
        "data = torch.load(open('log/Nov06_19-13-56_van_batchnorm/best.pkl', 'rb'), map_location=output_device)"
      ],
      "execution_count": 30,
      "outputs": []
    },
    {
      "cell_type": "code",
      "metadata": {
        "id": "aYugMgX2aov8",
        "colab": {
          "base_uri": "https://localhost:8080/"
        },
        "outputId": "47bd365c-9b1e-41ca-943a-66b781d965e5"
      },
      "source": [
        "feature_extractor.load_state_dict(data['feature_extractor'])\n",
        "classifier.load_state_dict(data['classifier'])\n",
        "discriminator.load_state_dict(data['discriminator'])\n",
        "discriminator_separate.load_state_dict(data['discriminator_separate'])"
      ],
      "execution_count": 31,
      "outputs": [
        {
          "output_type": "execute_result",
          "data": {
            "text/plain": [
              "<All keys matched successfully>"
            ]
          },
          "metadata": {},
          "execution_count": 31
        }
      ]
    },
    {
      "cell_type": "code",
      "metadata": {
        "id": "JmKS88LJbXE_",
        "colab": {
          "base_uri": "https://localhost:8080/",
          "height": 100,
          "referenced_widgets": [
            "c4e14593620645c28be0431031506fd9",
            "ff0d8dce331c427d8e650f6dd2a65c06",
            "6df2fb8f9ca9458081c6eb04b83a082b",
            "a6f898c7671743f0a650fc4ebeab089b",
            "3a1330dae8dd4c3291c1c380bf1134de",
            "7da8bb9820444f4cbcd362de43ba1e0d",
            "09afa6925e2f44efaaccb1cad7a30ff4",
            "9bcfc804c1be437f9715ad804311ebb0",
            "37685ffb86bf4f67a9b924304266b515",
            "0c979dbbd68d4e3290afee800218a4f6",
            "bae5e16a64a74b43919d469abffa4e83"
          ]
        },
        "outputId": "71db5b69-c32f-4b96-f470-8df6536c6bdd"
      },
      "source": [
        "print('UAN_vanilla_batch')\n",
        "test()"
      ],
      "execution_count": 32,
      "outputs": [
        {
          "output_type": "stream",
          "name": "stdout",
          "text": [
            "UAN_vanilla_batch\n"
          ]
        },
        {
          "output_type": "display_data",
          "data": {
            "application/vnd.jupyter.widget-view+json": {
              "model_id": "c4e14593620645c28be0431031506fd9",
              "version_minor": 0,
              "version_major": 2
            },
            "text/plain": [
              "testing :   0%|          | 0/10 [00:00<?, ?it/s]"
            ]
          },
          "metadata": {}
        },
        {
          "output_type": "stream",
          "name": "stdout",
          "text": [
            "[1.0, 0.9523809523809523, 1.0, 1.0, 0.9, 0.7916666666666666, 0.7272727272727273, 1.0, 1.0, 0.782608695652174, 0.21142857142857144]\n",
            "test accuracy is 0.8513961434364319\n"
          ]
        }
      ]
    },
    {
      "cell_type": "code",
      "metadata": {
        "id": "xLzGphsGTkzV"
      },
      "source": [
        "data = torch.load(open('log/Nov06_10-08-58_canny/best.pkl', 'rb'), map_location=output_device)"
      ],
      "execution_count": 33,
      "outputs": []
    },
    {
      "cell_type": "code",
      "metadata": {
        "colab": {
          "base_uri": "https://localhost:8080/"
        },
        "id": "b86_RcyITleC",
        "outputId": "52415391-7df3-4ff1-ab07-684f26b4cead"
      },
      "source": [
        "feature_extractor.load_state_dict(data['feature_extractor'])\n",
        "classifier.load_state_dict(data['classifier'])\n",
        "discriminator.load_state_dict(data['discriminator'])\n",
        "discriminator_separate.load_state_dict(data['discriminator_separate'])"
      ],
      "execution_count": 34,
      "outputs": [
        {
          "output_type": "execute_result",
          "data": {
            "text/plain": [
              "<All keys matched successfully>"
            ]
          },
          "metadata": {},
          "execution_count": 34
        }
      ]
    },
    {
      "cell_type": "code",
      "metadata": {
        "colab": {
          "base_uri": "https://localhost:8080/",
          "height": 100,
          "referenced_widgets": [
            "28c23f064e4b4aad8f9c918e65593124",
            "3b5ee839a2f34f07afbc26bf60b7de83",
            "021504cf765e440ab032b97d26a3c1cc",
            "f97e2464792f41bb9b51dfa5195d8e5e",
            "de22d7f31eca41feb40511b740d92caa",
            "63c1fbff72fb4ddb919e483df689831e",
            "397a59e2b680451cbdb84136087e0a21",
            "42aa81dc06a5478fbdaa0e525b48b09a",
            "e10aba45cc17453cb22aea9058084aca",
            "60bb7d161f304204a2ed377299a518a6",
            "f80802bee7a6471aa928879177aa7089"
          ]
        },
        "id": "pcEXY-hQTlwy",
        "outputId": "a607447d-5d39-4daa-80c5-8e69c080f72a"
      },
      "source": [
        "print('UAN_canny_batch')\n",
        "test()"
      ],
      "execution_count": 35,
      "outputs": [
        {
          "output_type": "stream",
          "name": "stdout",
          "text": [
            "UAN_canny_batch\n"
          ]
        },
        {
          "output_type": "display_data",
          "data": {
            "application/vnd.jupyter.widget-view+json": {
              "model_id": "28c23f064e4b4aad8f9c918e65593124",
              "version_minor": 0,
              "version_major": 2
            },
            "text/plain": [
              "testing :   0%|          | 0/10 [00:00<?, ?it/s]"
            ]
          },
          "metadata": {}
        },
        {
          "output_type": "stream",
          "name": "stdout",
          "text": [
            "[1.0, 0.6666666666666666, 0.0, 1.0, 0.8, 0.75, 0.9090909090909091, 1.0, 1.0, 0.782608695652174, 0.42857142857142855]\n",
            "test accuracy is 0.7579034566879272\n"
          ]
        }
      ]
    },
    {
      "cell_type": "code",
      "metadata": {
        "colab": {
          "base_uri": "https://localhost:8080/",
          "height": 545
        },
        "id": "9JZF-As-cysf",
        "outputId": "c07f910d-280d-4af2-d2bd-abc936e992e7"
      },
      "source": [
        "with open('log/Nov06_20-41-42_van_nobatch/epoch.txt') as f:\n",
        "    lines = f.readlines()\n",
        "accuracy = [float(i[:5]) for i in lines[5:95]]\n",
        "loss = [float(i[:5]) for i in lines[97:]]\n",
        "epoch = [(i+1) * 250 for i in range(90)]\n",
        "\n",
        "plt.plot(epoch, accuracy)\n",
        "plt.title('UAN_vanilla_nobatch_accuracy')\n",
        "plt.show()\n",
        "\n",
        "plt.plot(epoch, loss)\n",
        "plt.title('UAN_vanilla_nobatch_loss')\n",
        "plt.show()"
      ],
      "execution_count": 39,
      "outputs": [
        {
          "output_type": "display_data",
          "data": {
            "image/png": "[encoded data removed]",
            "text/plain": [
              "<Figure size 432x288 with 1 Axes>"
            ]
          },
          "metadata": {
            "needs_background": "light"
          }
        },
        {
          "output_type": "display_data",
          "data": {
            "image/png": "[encoded data removed]",
            "text/plain": [
              "<Figure size 432x288 with 1 Axes>"
            ]
          },
          "metadata": {
            "needs_background": "light"
          }
        }
      ]
    },
    {
      "cell_type": "code",
      "metadata": {
        "colab": {
          "base_uri": "https://localhost:8080/",
          "height": 545
        },
        "id": "iNwm9jONk6pb",
        "outputId": "90e12c57-f184-4a0a-ba30-effe3e8dacae"
      },
      "source": [
        "with open('log/Nov06_19-13-56_van_batchnorm/epoch.txt') as f:\n",
        "    lines = f.readlines()\n",
        "accuracy = [float(i[:5]) for i in lines[4:94]]\n",
        "loss = [float(i[:5]) for i in lines[96:]]\n",
        "epoch = [(i+1) * 250 for i in range(90)]\n",
        "\n",
        "plt.plot(epoch, accuracy)\n",
        "plt.title('UAN_vanilla_batchnorm_accuracy')\n",
        "plt.show()\n",
        "\n",
        "plt.plot(epoch, loss)\n",
        "plt.title('UAN_vanilla_batchnorm_loss')\n",
        "plt.show()"
      ],
      "execution_count": 44,
      "outputs": [
        {
          "output_type": "display_data",
          "data": {
            "image/png": "[encoded data removed]",
            "text/plain": [
              "<Figure size 432x288 with 1 Axes>"
            ]
          },
          "metadata": {
            "needs_background": "light"
          }
        },
        {
          "output_type": "display_data",
          "data": {
            "image/png": "[encoded data removed]",
            "text/plain": [
              "<Figure size 432x288 with 1 Axes>"
            ]
          },
          "metadata": {
            "needs_background": "light"
          }
        }
      ]
    },
    {
      "cell_type": "code",
      "metadata": {
        "colab": {
          "base_uri": "https://localhost:8080/",
          "height": 545
        },
        "id": "9Njizls3V0wB",
        "outputId": "f07fe56b-1249-45f1-9cb1-a9324a171367"
      },
      "source": [
        "with open('log/Nov06_10-08-58_canny/epoch.txt') as f:\n",
        "    lines = f.readlines()\n",
        "\n",
        "\n",
        "accuracy = [float(i[:5]) for i in lines[4:84]]\n",
        "loss = [float(i[:5]) for i in lines[86:]]\n",
        "epoch = [(i+1) * 250 for i in range(80)]\n",
        "\n",
        "plt.plot(epoch, accuracy)\n",
        "plt.title('UAN_canny_batch_accuracy')\n",
        "plt.show()\n",
        "\n",
        "plt.plot(epoch, loss)\n",
        "plt.title('UAN_canny_batch_loss')\n",
        "plt.show()"
      ],
      "execution_count": 57,
      "outputs": [
        {
          "output_type": "display_data",
          "data": {
            "image/png": "[encoded data removed]",
            "text/plain": [
              "<Figure size 432x288 with 1 Axes>"
            ]
          },
          "metadata": {
            "needs_background": "light"
          }
        },
        {
          "output_type": "display_data",
          "data": {
            "image/png": "[encoded data removed]",
            "text/plain": [
              "<Figure size 432x288 with 1 Axes>"
            ]
          },
          "metadata": {
            "needs_background": "light"
          }
        }
      ]
    }
  ]
}