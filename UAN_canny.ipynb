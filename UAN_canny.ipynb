{
 "cells": [
  {
   "cell_type": "code",
   "execution_count": 196,
   "metadata": {
    "colab": {
     "base_uri": "https://localhost:8080/"
    },
    "executionInfo": {
     "elapsed": 6997,
     "status": "ok",
     "timestamp": 1635092985236,
     "user": {
      "displayName": "Никита Егоров",
      "photoUrl": "https://lh3.googleusercontent.com/a/default-user=s64",
      "userId": "09413909794377500250"
     },
     "user_tz": -180
    },
    "id": "T2tYIsSfcNra",
    "outputId": "63156458-7eb3-428f-d967-876a46b40f25"
   },
   "outputs": [
    {
     "name": "stdout",
     "output_type": "stream",
     "text": [
      "Requirement already satisfied: easydl in /usr/local/lib/python3.7/dist-packages (2.0.7)\n",
      "Requirement already satisfied: pathlib2 in /usr/local/lib/python3.7/dist-packages (from easydl) (2.3.6)\n",
      "Requirement already satisfied: matplotlib in /usr/local/lib/python3.7/dist-packages (from easydl) (3.2.2)\n",
      "Requirement already satisfied: six in /usr/local/lib/python3.7/dist-packages (from easydl) (1.15.0)\n",
      "Requirement already satisfied: torch in /usr/local/lib/python3.7/dist-packages (from easydl) (1.9.0+cu111)\n",
      "Requirement already satisfied: torchvision in /usr/local/lib/python3.7/dist-packages (from easydl) (0.10.0+cu111)\n",
      "Requirement already satisfied: pyparsing!=2.0.4,!=2.1.2,!=2.1.6,>=2.0.1 in /usr/local/lib/python3.7/dist-packages (from matplotlib->easydl) (2.4.7)\n",
      "Requirement already satisfied: numpy>=1.11 in /usr/local/lib/python3.7/dist-packages (from matplotlib->easydl) (1.19.5)\n",
      "Requirement already satisfied: cycler>=0.10 in /usr/local/lib/python3.7/dist-packages (from matplotlib->easydl) (0.10.0)\n",
      "Requirement already satisfied: kiwisolver>=1.0.1 in /usr/local/lib/python3.7/dist-packages (from matplotlib->easydl) (1.3.2)\n",
      "Requirement already satisfied: python-dateutil>=2.1 in /usr/local/lib/python3.7/dist-packages (from matplotlib->easydl) (2.8.2)\n",
      "Requirement already satisfied: typing-extensions in /usr/local/lib/python3.7/dist-packages (from torch->easydl) (3.7.4.3)\n",
      "Requirement already satisfied: pillow>=5.3.0 in /usr/local/lib/python3.7/dist-packages (from torchvision->easydl) (7.1.2)\n",
      "Requirement already satisfied: tensorboardX in /usr/local/lib/python3.7/dist-packages (2.4)\n",
      "Requirement already satisfied: protobuf>=3.8.0 in /usr/local/lib/python3.7/dist-packages (from tensorboardX) (3.17.3)\n",
      "Requirement already satisfied: numpy in /usr/local/lib/python3.7/dist-packages (from tensorboardX) (1.19.5)\n",
      "Requirement already satisfied: six>=1.9 in /usr/local/lib/python3.7/dist-packages (from protobuf>=3.8.0->tensorboardX) (1.15.0)\n"
     ]
    }
   ],
   "source": [
    "import yaml\n",
    "import easydict\n",
    "import os\n",
    "from os.path import join\n",
    "from google.colab import drive\n",
    "import argparse\n",
    "\n",
    "!pip install easydl\n",
    "!pip install tensorboardX\n",
    "from torchvision import models\n",
    "from easydl import *\n",
    "from collections import Counter\n",
    "from torchvision.transforms.transforms import *\n",
    "from torch.utils.data import DataLoader, WeightedRandomSampler\n",
    "\n",
    "import datetime\n",
    "from tqdm import tqdm\n",
    "if is_in_notebook():\n",
    "    from tqdm import tqdm_notebook as tqdm\n",
    "from torch import optim\n",
    "from tensorboardX import SummaryWriter\n",
    "import torch.backends.cudnn as cudnn"
   ]
  },
  {
   "cell_type": "code",
   "execution_count": 197,
   "metadata": {
    "executionInfo": {
     "elapsed": 30,
     "status": "ok",
     "timestamp": 1635092985240,
     "user": {
      "displayName": "Никита Егоров",
      "photoUrl": "https://lh3.googleusercontent.com/a/default-user=s64",
      "userId": "09413909794377500250"
     },
     "user_tz": -180
    },
    "id": "Ufpvfbjbv1wD"
   },
   "outputs": [],
   "source": [
    "import numpy as np\n",
    "import matplotlib.pyplot as plt\n",
    "from scipy import ndimage as ndi\n",
    "from skimage.util import random_noise\n",
    "from skimage import feature\n",
    "from PIL import Image"
   ]
  },
  {
   "cell_type": "code",
   "execution_count": 198,
   "metadata": {
    "colab": {
     "base_uri": "https://localhost:8080/"
    },
    "executionInfo": {
     "elapsed": 31,
     "status": "ok",
     "timestamp": 1635092985242,
     "user": {
      "displayName": "Никита Егоров",
      "photoUrl": "https://lh3.googleusercontent.com/a/default-user=s64",
      "userId": "09413909794377500250"
     },
     "user_tz": -180
    },
    "id": "4cPAc2dbdKBU",
    "outputId": "7d725b31-e509-4e71-fcc9-ff0fd6294ae2"
   },
   "outputs": [
    {
     "name": "stdout",
     "output_type": "stream",
     "text": [
      "Drive already mounted at /content/drive/; to attempt to forcibly remount, call drive.mount(\"/content/drive/\", force_remount=True).\n"
     ]
    }
   ],
   "source": [
    "drive.mount(\"/content/drive/\")"
   ]
  },
  {
   "cell_type": "code",
   "execution_count": 199,
   "metadata": {
    "executionInfo": {
     "elapsed": 25,
     "status": "ok",
     "timestamp": 1635092985243,
     "user": {
      "displayName": "Никита Егоров",
      "photoUrl": "https://lh3.googleusercontent.com/a/default-user=s64",
      "userId": "09413909794377500250"
     },
     "user_tz": -180
    },
    "id": "n19WYsQGdfet"
   },
   "outputs": [],
   "source": [
    "os.chdir(\"/content/drive/MyDrive\")"
   ]
  },
  {
   "cell_type": "code",
   "execution_count": 200,
   "metadata": {
    "executionInfo": {
     "elapsed": 26,
     "status": "ok",
     "timestamp": 1635092985244,
     "user": {
      "displayName": "Никита Егоров",
      "photoUrl": "https://lh3.googleusercontent.com/a/default-user=s64",
      "userId": "09413909794377500250"
     },
     "user_tz": -180
    },
    "id": "TV1PjLU7c-AC"
   },
   "outputs": [],
   "source": [
    "class Dataset:\n",
    "    def __init__(self, path, domains, files, prefix):\n",
    "        self.path = path\n",
    "        self.prefix = prefix\n",
    "        self.domains = domains\n",
    "        self.files = [(join(path, file)) for file in files]\n",
    "        self.prefixes = [self.prefix] * len(self.domains)\n",
    "\n",
    "\n",
    "parser = argparse.ArgumentParser(description='Code for *Universal Domain Adaptation*',\n",
    "                                 formatter_class=argparse.ArgumentDefaultsHelpFormatter)\n",
    "parser.add_argument('-f')\n",
    "parser.add_argument('--config', type=str, default='office-train-config.yaml', help='/path/to/config/file')\n",
    "\n",
    "args = parser.parse_args()\n",
    "\n",
    "config_file = args.config\n",
    "\n",
    "args = yaml.safe_load(open(config_file))\n",
    "\n",
    "save_config = yaml.safe_load(open(config_file))\n",
    "\n",
    "args = easydict.EasyDict(args)\n",
    "\n",
    "dataset = None\n",
    "if args.data.dataset.name == 'office':\n",
    "    dataset = Dataset(\n",
    "    path=args.data.dataset.root_path,\n",
    "    domains=['amazon', 'dslr', 'webcam'],\n",
    "    files=[\n",
    "        'amazon_reorgnized.txt',\n",
    "        'dslr_reorgnized.txt',\n",
    "        'webcam_reorgnized.txt'\n",
    "    ],\n",
    "    prefix=args.data.dataset.root_path)\n",
    "    "
   ]
  },
  {
   "cell_type": "code",
   "execution_count": 201,
   "metadata": {
    "executionInfo": {
     "elapsed": 26,
     "status": "ok",
     "timestamp": 1635092985245,
     "user": {
      "displayName": "Никита Егоров",
      "photoUrl": "https://lh3.googleusercontent.com/a/default-user=s64",
      "userId": "09413909794377500250"
     },
     "user_tz": -180
    },
    "id": "_snmMUYVfgUe"
   },
   "outputs": [],
   "source": [
    "source_domain_name = dataset.domains[args.data.dataset.source]\n",
    "target_domain_name = dataset.domains[args.data.dataset.target]\n",
    "source_file = dataset.files[args.data.dataset.source]\n",
    "target_file = dataset.files[args.data.dataset.target]"
   ]
  },
  {
   "cell_type": "code",
   "execution_count": 202,
   "metadata": {
    "executionInfo": {
     "elapsed": 27,
     "status": "ok",
     "timestamp": 1635092985245,
     "user": {
      "displayName": "Никита Егоров",
      "photoUrl": "https://lh3.googleusercontent.com/a/default-user=s64",
      "userId": "09413909794377500250"
     },
     "user_tz": -180
    },
    "id": "Etm8Jidue4R8"
   },
   "outputs": [],
   "source": [
    "a, b, c = args.data.dataset.n_share, args.data.dataset.n_source_private, args.data.dataset.n_total\n",
    "c = c - a - b\n",
    "common_classes = [i for i in range(a)]\n",
    "source_private_classes = [i + a for i in range(b)]\n",
    "target_private_classes = [i + a + b for i in range(c)]\n",
    "\n",
    "source_classes = common_classes + source_private_classes\n",
    "target_classes = common_classes + target_private_classes\n",
    "\n",
    "train_transform = Compose([\n",
    "    Resize(256),\n",
    "    RandomCrop(224),\n",
    "    RandomHorizontalFlip(),\n",
    "    ToTensor()\n",
    "])\n",
    "\n",
    "test_transform = Compose([\n",
    "    Resize(256),\n",
    "    CenterCrop(224),\n",
    "    ToTensor()\n",
    "])\n",
    "\n",
    "source_train_ds = FileListDataset(list_path=source_file, path_prefix=dataset.prefixes[args.data.dataset.source],\n",
    "                            transform=train_transform, filter=(lambda x: x in source_classes))\n",
    "source_test_ds = FileListDataset(list_path=source_file,path_prefix=dataset.prefixes[args.data.dataset.source],\n",
    "                            transform=test_transform, filter=(lambda x: x in source_classes))\n",
    "target_train_ds = FileListDataset(list_path=target_file, path_prefix=dataset.prefixes[args.data.dataset.target],\n",
    "                            transform=train_transform, filter=(lambda x: x in target_classes))\n",
    "target_test_ds = FileListDataset(list_path=target_file, path_prefix=dataset.prefixes[args.data.dataset.target],\n",
    "                            transform=test_transform, filter=(lambda x: x in target_classes))\n",
    "\n",
    "classes = source_train_ds.labels\n",
    "freq = Counter(classes)\n",
    "class_weight = {x : 1.0 / freq[x] if args.data.dataloader.class_balance else 1.0 for x in freq}\n",
    "\n",
    "source_weights = [class_weight[x] for x in source_train_ds.labels]\n",
    "sampler = WeightedRandomSampler(source_weights, len(source_train_ds.labels))\n",
    "\n",
    "source_train_dl = DataLoader(dataset=source_train_ds, batch_size=args.data.dataloader.batch_size,\n",
    "                             sampler=sampler, num_workers=args.data.dataloader.data_workers, drop_last=True)\n",
    "source_test_dl = DataLoader(dataset=source_test_ds, batch_size=args.data.dataloader.batch_size, shuffle=False,\n",
    "                             num_workers=1, drop_last=False)\n",
    "target_train_dl = DataLoader(dataset=target_train_ds, batch_size=args.data.dataloader.batch_size,shuffle=True,\n",
    "                             num_workers=args.data.dataloader.data_workers, drop_last=True)\n",
    "target_test_dl = DataLoader(dataset=target_test_ds, batch_size=args.data.dataloader.batch_size, shuffle=False,\n",
    "                             num_workers=1, drop_last=False)\n"
   ]
  },
  {
   "cell_type": "code",
   "execution_count": 203,
   "metadata": {
    "executionInfo": {
     "elapsed": 26,
     "status": "ok",
     "timestamp": 1635092985246,
     "user": {
      "displayName": "Никита Егоров",
      "photoUrl": "https://lh3.googleusercontent.com/a/default-user=s64",
      "userId": "09413909794377500250"
     },
     "user_tz": -180
    },
    "id": "CkLdufobfjSe"
   },
   "outputs": [],
   "source": [
    "def reverse_sigmoid(y):\n",
    "    return torch.log(y / (1.0 - y + 1e-10) + 1e-10)\n",
    "\n",
    "\n",
    "def get_source_share_weight(domain_out, before_softmax, domain_temperature=1.0, class_temperature=10.0):\n",
    "    before_softmax = before_softmax / class_temperature\n",
    "    after_softmax = nn.Softmax(-1)(before_softmax)\n",
    "    domain_logit = reverse_sigmoid(domain_out)\n",
    "    domain_logit = domain_logit / domain_temperature\n",
    "    domain_out = nn.Sigmoid()(domain_logit)\n",
    "    \n",
    "    entropy = torch.sum(- after_softmax * torch.log(after_softmax + 1e-10), dim=1, keepdim=True)\n",
    "    entropy_norm = entropy / np.log(after_softmax.size(1))\n",
    "    weight = entropy_norm - domain_out\n",
    "    weight = weight.detach()\n",
    "    return weight\n",
    "\n",
    "\n",
    "def get_target_share_weight(domain_out, before_softmax, domain_temperature=1.0, class_temperature=10.0):\n",
    "    return - get_source_share_weight(domain_out, before_softmax, domain_temperature, class_temperature)\n",
    "\n",
    "\n",
    "def normalize_weight(x):\n",
    "    min_val = x.min()\n",
    "    max_val = x.max()\n",
    "    x = (x - min_val) / (max_val - min_val)\n",
    "    x = x / torch.mean(x)\n",
    "    return x.detach()\n",
    "\n",
    "\n",
    "def seed_everything(seed=1234):\n",
    "    import random\n",
    "    random.seed(seed)\n",
    "    torch.manual_seed(seed)\n",
    "    torch.cuda.manual_seed_all(seed)\n",
    "    np.random.seed(seed)\n",
    "    import os\n",
    "    os.environ['PYTHONHASHSEED'] = str(seed)"
   ]
  },
  {
   "cell_type": "code",
   "execution_count": 204,
   "metadata": {
    "executionInfo": {
     "elapsed": 26,
     "status": "ok",
     "timestamp": 1635092985247,
     "user": {
      "displayName": "Никита Егоров",
      "photoUrl": "https://lh3.googleusercontent.com/a/default-user=s64",
      "userId": "09413909794377500250"
     },
     "user_tz": -180
    },
    "id": "rNS1j_5nfmpB"
   },
   "outputs": [],
   "source": [
    "\n",
    "\n",
    "\n",
    "class ResNet50Fc(nn.Module):\n",
    "\n",
    "    def __init__(self,model_path=None, normalize=True, canny=False):\n",
    "        super(ResNet50Fc, self).__init__()\n",
    "        if model_path or normalize:\n",
    "             self.normalize = True\n",
    "            self.register_buffer('mean', torch.tensor([0.485, 0.456, 0.406]).view(1, 3, 1, 1))\n",
    "            self.register_buffer('std', torch.tensor([0.229, 0.224, 0.225]).view(1, 3, 1, 1))\n",
    "        else:\n",
    "            self.normalize = canny\n",
    "        self.canny = False\n",
    "        model_resnet = self.model_resnet\n",
    "        self.conv1 = model_resnet.conv1\n",
    "        self.bn1 = model_resnet.bn1\n",
    "        self.relu = model_resnet.relu\n",
    "        self.maxpool = model_resnet.maxpool\n",
    "        self.layer1 = model_resnet.layer1\n",
    "        self.layer2 = model_resnet.layer2\n",
    "        self.layer3 = model_resnet.layer3\n",
    "        self.layer4 = model_resnet.layer4\n",
    "        self.avgpool = model_resnet.avgpool\n",
    "        self.__in_features = model_resnet.fc.in_features\n",
    "\n",
    "    def forward(self, x):\n",
    "        if self.normalize:\n",
    "            x = (x - self.mean) / self.std\n",
    "        if self.canny:\n",
    "            #print(x.shape)\n",
    "            x = torch.mean(x, axis=1)\n",
    "            xx = x.cpu().detach().numpy()\n",
    "            edges1 = np.array([feature.canny(i) for i in xx])        \n",
    "            edges1 = np.stack((edges1,)*3, axis=1)\n",
    "            x = torch.from_numpy(edges1)\n",
    "            x = x.to('cuda', dtype=torch.float)\n",
    "        x = self.conv1(x)\n",
    "        x = self.bn1(x)\n",
    "        x = self.relu(x)\n",
    "        x = self.maxpool(x)\n",
    "        x = self.layer1(x)\n",
    "        x = self.layer2(x)\n",
    "        x = self.layer3(x)\n",
    "        x = self.layer4(x)\n",
    "        x = self.avgpool(x)\n",
    "        x = x.view(x.size(0), -1)\n",
    "        return x\n",
    "\n",
    "    def output_num(self):\n",
    "        return self.__in_features\n",
    "\n",
    "\n",
    "class CLS(nn.Module):\n",
    "    \"\"\"\n",
    "    a two-layer MLP for classification\n",
    "    \"\"\"\n",
    "    def __init__(self, in_dim, out_dim, bottle_neck_dim=256):\n",
    "        super(CLS, self).__init__()\n",
    "        self.bottleneck = nn.Linear(in_dim, bottle_neck_dim)\n",
    "        self.fc = nn.Linear(bottle_neck_dim, out_dim)\n",
    "        self.main = nn.Sequential(self.bottleneck, self.fc, nn.Softmax(dim=-1))\n",
    "\n",
    "    def forward(self, x):\n",
    "        out = [x]\n",
    "        for module in self.main.children():\n",
    "            x = module(x)\n",
    "            out.append(x)\n",
    "        return out\n",
    "\n",
    "\n",
    "class AdversarialNetwork(nn.Module):\n",
    "    def __init__(self, in_feature):\n",
    "        super(AdversarialNetwork, self).__init__()\n",
    "        self.main = nn.Sequential(\n",
    "            nn.Linear(in_feature, 1024),\n",
    "            nn.ReLU(inplace=True),\n",
    "            nn.Dropout(0.5),\n",
    "            nn.Linear(1024,1024),\n",
    "            nn.ReLU(inplace=True),\n",
    "            nn.Dropout(0.5),\n",
    "            nn.Linear(1024, 1),\n",
    "            nn.Sigmoid()\n",
    "        )\n",
    "        self.grl = GradientReverseModule(lambda step: aToBSheduler(step, 0.0, 1.0, gamma=10, max_iter=10000))\n",
    "\n",
    "    def forward(self, x):\n",
    "        x_ = self.grl(x)\n",
    "        y = self.main(x_)\n",
    "        return y"
   ]
  },
  {
   "cell_type": "code",
   "execution_count": 205,
   "metadata": {
    "colab": {
     "base_uri": "https://localhost:8080/"
    },
    "executionInfo": {
     "elapsed": 1457,
     "status": "ok",
     "timestamp": 1635092986678,
     "user": {
      "displayName": "Никита Егоров",
      "photoUrl": "https://lh3.googleusercontent.com/a/default-user=s64",
      "userId": "09413909794377500250"
     },
     "user_tz": -180
    },
    "id": "Qvq7CI99f128",
    "outputId": "48f8fa15-1fea-4885-a1fc-78acfb2e3ea7"
   },
   "outputs": [
    {
     "name": "stdout",
     "output_type": "stream",
     "text": [
      "cuda\n"
     ]
    }
   ],
   "source": [
    "cudnn.benchmark = True\n",
    "cudnn.deterministic = True\n",
    "\n",
    "seed_everything()\n",
    "torch.multiprocessing.freeze_support()\n",
    "# if args.misc.gpus < 1:\n",
    "#     import os\n",
    "#     os.environ[\"CUDA_VISIBLE_DEVICES\"] = \"\"\n",
    "#     gpu_ids = []\n",
    "#     output_device = torch.device('cpu')\n",
    "# else:\n",
    "#     gpu_ids = select_GPUs(args.misc.gpus)\n",
    "#     output_device = gpu_ids[0]\n",
    "gpu_ids = [0]\n",
    "output_device = 'cuda' if torch.cuda.is_available() else 'cpu'\n",
    "print(output_device)\n",
    "#exit()\n",
    "now = datetime.datetime.now().strftime('%b%d_%H-%M-%S')\n",
    "\n",
    "log_dir = f'{args.log.root_dir}/{now}'\n",
    "\n",
    "logger = SummaryWriter(log_dir)\n",
    "\n",
    "with open(join(log_dir, 'config.yaml'), 'w') as f:\n",
    "    f.write(yaml.dump(save_config))\n",
    "\n",
    "model_dict = {\n",
    "    'resnet50': ResNet50Fc,\n",
    "}\n",
    "\n",
    "\n",
    "class TotalNet(nn.Module):\n",
    "    def __init__(self, canny):\n",
    "        super(TotalNet, self).__init__()\n",
    "        self.feature_extractor = ResNet50Fc(canny=canny)\n",
    "        classifier_output_dim = len(source_classes)\n",
    "        self.classifier = CLS(self.feature_extractor.output_num(), classifier_output_dim, bottle_neck_dim=256)\n",
    "        self.discriminator = AdversarialNetwork(256)\n",
    "        self.discriminator_separate = AdversarialNetwork(256)\n",
    "\n",
    "    def forward(self, x):\n",
    "        f = self.feature_extractor(x)\n",
    "        f, _, __, y = self.classifier(f)\n",
    "        d = self.discriminator(_)\n",
    "        d_0 = self.discriminator_separate(_)\n",
    "        return y, d, d_0\n",
    "\n",
    "\n",
    "\n",
    "\n"
   ]
  },
  {
   "cell_type": "code",
   "execution_count": 206,
   "metadata": {
    "executionInfo": {
     "elapsed": 44,
     "status": "ok",
     "timestamp": 1635092986681,
     "user": {
      "displayName": "Никита Егоров",
      "photoUrl": "https://lh3.googleusercontent.com/a/default-user=s64",
      "userId": "09413909794377500250"
     },
     "user_tz": -180
    },
    "id": "ABI4_hbphCRN"
   },
   "outputs": [],
   "source": [
    "def train(canny):\n",
    "\n",
    "\n",
    "\n",
    "    totalNet = TotalNet(canny)\n",
    "\n",
    "    feature_extractor = nn.DataParallel(totalNet.feature_extractor, device_ids=gpu_ids, output_device=output_device).train(True)\n",
    "    classifier = nn.DataParallel(totalNet.classifier, device_ids=gpu_ids, output_device=output_device).train(True)\n",
    "    discriminator = nn.DataParallel(totalNet.discriminator, device_ids=gpu_ids, output_device=output_device).train(True)\n",
    "    discriminator_separate = nn.DataParallel(totalNet.discriminator_separate, device_ids=gpu_ids, output_device=output_device).train(True)\n",
    "\n",
    "\n",
    "    # ===================optimizer\n",
    "    scheduler = lambda step, initial_lr: inverseDecaySheduler(step, initial_lr, gamma=10, power=0.75, max_iter=10000)\n",
    "    optimizer_finetune = OptimWithSheduler(\n",
    "        optim.SGD(feature_extractor.parameters(), lr=args.train.lr / 10.0, weight_decay=args.train.weight_decay, momentum=args.train.momentum, nesterov=True),\n",
    "        scheduler)\n",
    "    optimizer_cls = OptimWithSheduler(\n",
    "        optim.SGD(classifier.parameters(), lr=args.train.lr, weight_decay=args.train.weight_decay, momentum=args.train.momentum, nesterov=True),\n",
    "        scheduler)\n",
    "    optimizer_discriminator = OptimWithSheduler(\n",
    "        optim.SGD(discriminator.parameters(), lr=args.train.lr, weight_decay=args.train.weight_decay, momentum=args.train.momentum, nesterov=True),\n",
    "        scheduler)\n",
    "    optimizer_discriminator_separate = OptimWithSheduler(\n",
    "        optim.SGD(discriminator_separate.parameters(), lr=args.train.lr, weight_decay=args.train.weight_decay, momentum=args.train.momentum, nesterov=True),\n",
    "        scheduler)\n",
    "\n",
    "    global_step = 0\n",
    "    best_acc = 0\n",
    "\n",
    "    total_steps = tqdm(range(args.train.min_step),desc='global step')\n",
    "    epoch_id = 0\n",
    "\n",
    "    acc = []\n",
    "\n",
    "    while global_step < args.train.min_step:\n",
    "\n",
    "        iters = tqdm(zip(source_train_dl, target_train_dl), desc=f'epoch {epoch_id} ', total=min(len(source_train_dl), len(target_train_dl)))\n",
    "        epoch_id += 1\n",
    "\n",
    "        for i, ((im_source, label_source), (im_target, label_target)) in enumerate(iters):\n",
    "            #torch.multiprocessing.freeze_support()\n",
    "            save_label_target = label_target  # for debug usage\n",
    "\n",
    "            label_source = label_source.to(output_device)\n",
    "            label_target = label_target.to(output_device)\n",
    "            label_target = torch.zeros_like(label_target)\n",
    "\n",
    "            # =========================forward pass\n",
    "            im_source = im_source.to(output_device)\n",
    "            im_target = im_target.to(output_device)\n",
    "\n",
    "            fc1_s = feature_extractor.forward(im_source)\n",
    "            fc1_t = feature_extractor.forward(im_target)\n",
    "\n",
    "            fc1_s, feature_source, fc2_s, predict_prob_source = classifier.forward(fc1_s)\n",
    "            fc1_t, feature_target, fc2_t, predict_prob_target = classifier.forward(fc1_t)\n",
    "\n",
    "            domain_prob_discriminator_source = discriminator.forward(feature_source)\n",
    "            domain_prob_discriminator_target = discriminator.forward(feature_target)\n",
    "\n",
    "            domain_prob_discriminator_source_separate = discriminator_separate.forward(feature_source.detach())\n",
    "            domain_prob_discriminator_target_separate = discriminator_separate.forward(feature_target.detach())\n",
    "\n",
    "            source_share_weight = get_source_share_weight(domain_prob_discriminator_source_separate, fc2_s, domain_temperature=1.0, class_temperature=10.0)\n",
    "            source_share_weight = normalize_weight(source_share_weight)\n",
    "            target_share_weight = get_target_share_weight(domain_prob_discriminator_target_separate, fc2_t, domain_temperature=1.0, class_temperature=1.0)\n",
    "            target_share_weight = normalize_weight(target_share_weight)\n",
    "                \n",
    "            # ==============================compute loss\n",
    "            adv_loss = torch.zeros(1, 1).to(output_device)\n",
    "            adv_loss_separate = torch.zeros(1, 1).to(output_device)\n",
    "\n",
    "            tmp = source_share_weight * nn.BCELoss(reduction='none')(domain_prob_discriminator_source, torch.ones_like(domain_prob_discriminator_source))\n",
    "            adv_loss += torch.mean(tmp, dim=0, keepdim=True)\n",
    "            tmp = target_share_weight * nn.BCELoss(reduction='none')(domain_prob_discriminator_target, torch.zeros_like(domain_prob_discriminator_target))\n",
    "            adv_loss += torch.mean(tmp, dim=0, keepdim=True)\n",
    "\n",
    "            adv_loss_separate += nn.BCELoss()(domain_prob_discriminator_source_separate, torch.ones_like(domain_prob_discriminator_source_separate))\n",
    "            adv_loss_separate += nn.BCELoss()(domain_prob_discriminator_target_separate, torch.zeros_like(domain_prob_discriminator_target_separate))\n",
    "\n",
    "            # ============================== cross entropy loss\n",
    "            ce = nn.CrossEntropyLoss(reduction='none')(predict_prob_source, label_source)\n",
    "            ce = torch.mean(ce, dim=0, keepdim=True)\n",
    "\n",
    "            with OptimizerManager(\n",
    "                    [optimizer_finetune, optimizer_cls, optimizer_discriminator, optimizer_discriminator_separate]):\n",
    "                loss = ce + adv_loss + adv_loss_separate\n",
    "                loss.backward()\n",
    "\n",
    "            global_step += 1\n",
    "            total_steps.update()\n",
    "\n",
    "            # if global_step % args.log.log_interval == 0:\n",
    "            #     counter = AccuracyCounter()\n",
    "            #     counter.addOneBatch(variable_to_numpy(one_hot(label_source, len(source_classes))), variable_to_numpy(predict_prob_source))\n",
    "            #     acc_train = torch.tensor([counter.reportAccuracy()]).to(output_device)\n",
    "            #     logger.add_scalar('adv_loss', adv_loss, global_step)\n",
    "            #     logger.add_scalar('ce', ce, global_step)\n",
    "            #     logger.add_scalar('adv_loss_separate', adv_loss_separate, global_step)\n",
    "            #     logger.add_scalar('acc_train', acc_train, global_step)\n",
    "\n",
    "            if global_step % args.test.test_interval == 0:\n",
    "\n",
    "                counters = [AccuracyCounter() for x in range(len(source_classes) + 1)]\n",
    "                with torch.no_grad():\n",
    "\n",
    "                    for i, (im, label) in enumerate(tqdm(target_test_dl, desc='testing ')):\n",
    "                        im = im.to(output_device)\n",
    "                        label = label.to(output_device)\n",
    "\n",
    "                        feature = feature_extractor.forward(im)\n",
    "                        feature, __, before_softmax, predict_prob = classifier.forward(feature)\n",
    "                        domain_prob = discriminator_separate.forward(__)\n",
    "                        target_share_weight = get_target_share_weight(domain_prob, before_softmax, domain_temperature=1.0,\n",
    "                                                                    class_temperature=1.0)\n",
    "\n",
    "\n",
    "                def outlier(each_target_share_weight):\n",
    "                    return each_target_share_weight < args.test.w_0\n",
    "                counters = [AccuracyCounter() for x in range(len(source_classes) + 1)]\n",
    "                for (each_predict_prob, each_label, each_target_share_weight) in zip(predict_prob, label,\n",
    "                                                                                    target_share_weight):\n",
    "                    if each_label in source_classes:\n",
    "                        counters[each_label].Ntotal += 1.0\n",
    "                        each_pred_id = np.argmax(each_predict_prob.cpu().detach().numpy())\n",
    "                        if not outlier(each_target_share_weight[0]) and each_pred_id == each_label:\n",
    "                            counters[each_label].Ncorrect += 1.0\n",
    "                    else:\n",
    "\n",
    "                        counters[-1].Ntotal += 1.0\n",
    "                        if outlier(each_target_share_weight[0]):\n",
    "                            counters[-1].Ncorrect += 1.0\n",
    "\n",
    "                acc_tests = [x.reportAccuracy() for x in counters if not np.isnan(x.reportAccuracy())]\n",
    "                acc_test = torch.ones(1, 1) * np.mean(acc_tests)\n",
    "                print(acc_test, np.mean(acc_tests))\n",
    "                acc.append(np.mean(acc_tests))\n",
    "    return acc\n",
    "\n",
    "\n"
   ]
  },
  {
   "cell_type": "code",
   "execution_count": 208,
   "metadata": {
    "executionInfo": {
     "elapsed": 884,
     "status": "ok",
     "timestamp": 1635093038060,
     "user": {
      "displayName": "Никита Егоров",
      "photoUrl": "https://lh3.googleusercontent.com/a/default-user=s64",
      "userId": "09413909794377500250"
     },
     "user_tz": -180
    },
    "id": "O2BeCW_NI7h3"
   },
   "outputs": [],
   "source": [
    "torch.cuda.empty_cache()"
   ]
  },
  {
   "cell_type": "code",
   "execution_count": 209,
   "metadata": {
    "colab": {
     "base_uri": "https://localhost:8080/",
     "height": 306
    },
    "executionInfo": {
     "elapsed": 823,
     "status": "error",
     "timestamp": 1635093040754,
     "user": {
      "displayName": "Никита Егоров",
      "photoUrl": "https://lh3.googleusercontent.com/a/default-user=s64",
      "userId": "09413909794377500250"
     },
     "user_tz": -180
    },
    "id": "Yofdg_h3uITg",
    "outputId": "652bccda-ca68-4b92-c431-af3ec5e7bc4d"
   },
   "outputs": [
    {
     "ename": "RuntimeError",
     "evalue": "ignored",
     "output_type": "error",
     "traceback": [
      "\u001b[0;31m---------------------------------------------------------------------------\u001b[0m",
      "\u001b[0;31mRuntimeError\u001b[0m                              Traceback (most recent call last)",
      "\u001b[0;32m<ipython-input-209-1461394686f2>\u001b[0m in \u001b[0;36m<module>\u001b[0;34m()\u001b[0m\n\u001b[0;32m----> 1\u001b[0;31m \u001b[0macc_v\u001b[0m \u001b[0;34m=\u001b[0m \u001b[0mtrain\u001b[0m\u001b[0;34m(\u001b[0m\u001b[0mcanny\u001b[0m\u001b[0;34m=\u001b[0m\u001b[0;32mFalse\u001b[0m\u001b[0;34m)\u001b[0m\u001b[0;34m\u001b[0m\u001b[0;34m\u001b[0m\u001b[0m\n\u001b[0m",
      "\u001b[0;32m<ipython-input-206-6b98731c86c8>\u001b[0m in \u001b[0;36mtrain\u001b[0;34m(canny)\u001b[0m\n\u001b[1;32m      5\u001b[0m     \u001b[0mtotalNet\u001b[0m \u001b[0;34m=\u001b[0m \u001b[0mTotalNet\u001b[0m\u001b[0;34m(\u001b[0m\u001b[0mcanny\u001b[0m\u001b[0;34m)\u001b[0m\u001b[0;34m\u001b[0m\u001b[0;34m\u001b[0m\u001b[0m\n\u001b[1;32m      6\u001b[0m \u001b[0;34m\u001b[0m\u001b[0m\n\u001b[0;32m----> 7\u001b[0;31m     \u001b[0mfeature_extractor\u001b[0m \u001b[0;34m=\u001b[0m \u001b[0mnn\u001b[0m\u001b[0;34m.\u001b[0m\u001b[0mDataParallel\u001b[0m\u001b[0;34m(\u001b[0m\u001b[0mtotalNet\u001b[0m\u001b[0;34m.\u001b[0m\u001b[0mfeature_extractor\u001b[0m\u001b[0;34m,\u001b[0m \u001b[0mdevice_ids\u001b[0m\u001b[0;34m=\u001b[0m\u001b[0mgpu_ids\u001b[0m\u001b[0;34m,\u001b[0m \u001b[0moutput_device\u001b[0m\u001b[0;34m=\u001b[0m\u001b[0moutput_device\u001b[0m\u001b[0;34m)\u001b[0m\u001b[0;34m.\u001b[0m\u001b[0mtrain\u001b[0m\u001b[0;34m(\u001b[0m\u001b[0;32mTrue\u001b[0m\u001b[0;34m)\u001b[0m\u001b[0;34m\u001b[0m\u001b[0;34m\u001b[0m\u001b[0m\n\u001b[0m\u001b[1;32m      8\u001b[0m     \u001b[0mclassifier\u001b[0m \u001b[0;34m=\u001b[0m \u001b[0mnn\u001b[0m\u001b[0;34m.\u001b[0m\u001b[0mDataParallel\u001b[0m\u001b[0;34m(\u001b[0m\u001b[0mtotalNet\u001b[0m\u001b[0;34m.\u001b[0m\u001b[0mclassifier\u001b[0m\u001b[0;34m,\u001b[0m \u001b[0mdevice_ids\u001b[0m\u001b[0;34m=\u001b[0m\u001b[0mgpu_ids\u001b[0m\u001b[0;34m,\u001b[0m \u001b[0moutput_device\u001b[0m\u001b[0;34m=\u001b[0m\u001b[0moutput_device\u001b[0m\u001b[0;34m)\u001b[0m\u001b[0;34m.\u001b[0m\u001b[0mtrain\u001b[0m\u001b[0;34m(\u001b[0m\u001b[0;32mTrue\u001b[0m\u001b[0;34m)\u001b[0m\u001b[0;34m\u001b[0m\u001b[0;34m\u001b[0m\u001b[0m\n\u001b[1;32m      9\u001b[0m     \u001b[0mdiscriminator\u001b[0m \u001b[0;34m=\u001b[0m \u001b[0mnn\u001b[0m\u001b[0;34m.\u001b[0m\u001b[0mDataParallel\u001b[0m\u001b[0;34m(\u001b[0m\u001b[0mtotalNet\u001b[0m\u001b[0;34m.\u001b[0m\u001b[0mdiscriminator\u001b[0m\u001b[0;34m,\u001b[0m \u001b[0mdevice_ids\u001b[0m\u001b[0;34m=\u001b[0m\u001b[0mgpu_ids\u001b[0m\u001b[0;34m,\u001b[0m \u001b[0moutput_device\u001b[0m\u001b[0;34m=\u001b[0m\u001b[0moutput_device\u001b[0m\u001b[0;34m)\u001b[0m\u001b[0;34m.\u001b[0m\u001b[0mtrain\u001b[0m\u001b[0;34m(\u001b[0m\u001b[0;32mTrue\u001b[0m\u001b[0;34m)\u001b[0m\u001b[0;34m\u001b[0m\u001b[0;34m\u001b[0m\u001b[0m\n",
      "\u001b[0;32m/usr/local/lib/python3.7/dist-packages/torch/nn/parallel/data_parallel.py\u001b[0m in \u001b[0;36m__init__\u001b[0;34m(self, module, device_ids, output_device, dim)\u001b[0m\n\u001b[1;32m    143\u001b[0m \u001b[0;34m\u001b[0m\u001b[0m\n\u001b[1;32m    144\u001b[0m         \u001b[0;32mif\u001b[0m \u001b[0mlen\u001b[0m\u001b[0;34m(\u001b[0m\u001b[0mself\u001b[0m\u001b[0;34m.\u001b[0m\u001b[0mdevice_ids\u001b[0m\u001b[0;34m)\u001b[0m \u001b[0;34m==\u001b[0m \u001b[0;36m1\u001b[0m\u001b[0;34m:\u001b[0m\u001b[0;34m\u001b[0m\u001b[0;34m\u001b[0m\u001b[0m\n\u001b[0;32m--> 145\u001b[0;31m             \u001b[0mself\u001b[0m\u001b[0;34m.\u001b[0m\u001b[0mmodule\u001b[0m\u001b[0;34m.\u001b[0m\u001b[0mto\u001b[0m\u001b[0;34m(\u001b[0m\u001b[0mself\u001b[0m\u001b[0;34m.\u001b[0m\u001b[0msrc_device_obj\u001b[0m\u001b[0;34m)\u001b[0m\u001b[0;34m\u001b[0m\u001b[0;34m\u001b[0m\u001b[0m\n\u001b[0m\u001b[1;32m    146\u001b[0m \u001b[0;34m\u001b[0m\u001b[0m\n\u001b[1;32m    147\u001b[0m     \u001b[0;32mdef\u001b[0m \u001b[0mforward\u001b[0m\u001b[0;34m(\u001b[0m\u001b[0mself\u001b[0m\u001b[0;34m,\u001b[0m \u001b[0;34m*\u001b[0m\u001b[0minputs\u001b[0m\u001b[0;34m,\u001b[0m \u001b[0;34m**\u001b[0m\u001b[0mkwargs\u001b[0m\u001b[0;34m)\u001b[0m\u001b[0;34m:\u001b[0m\u001b[0;34m\u001b[0m\u001b[0;34m\u001b[0m\u001b[0m\n",
      "\u001b[0;32m/usr/local/lib/python3.7/dist-packages/torch/nn/modules/module.py\u001b[0m in \u001b[0;36mto\u001b[0;34m(self, *args, **kwargs)\u001b[0m\n\u001b[1;32m    850\u001b[0m             \u001b[0;32mreturn\u001b[0m \u001b[0mt\u001b[0m\u001b[0;34m.\u001b[0m\u001b[0mto\u001b[0m\u001b[0;34m(\u001b[0m\u001b[0mdevice\u001b[0m\u001b[0;34m,\u001b[0m \u001b[0mdtype\u001b[0m \u001b[0;32mif\u001b[0m \u001b[0mt\u001b[0m\u001b[0;34m.\u001b[0m\u001b[0mis_floating_point\u001b[0m\u001b[0;34m(\u001b[0m\u001b[0;34m)\u001b[0m \u001b[0;32mor\u001b[0m \u001b[0mt\u001b[0m\u001b[0;34m.\u001b[0m\u001b[0mis_complex\u001b[0m\u001b[0;34m(\u001b[0m\u001b[0;34m)\u001b[0m \u001b[0;32melse\u001b[0m \u001b[0;32mNone\u001b[0m\u001b[0;34m,\u001b[0m \u001b[0mnon_blocking\u001b[0m\u001b[0;34m)\u001b[0m\u001b[0;34m\u001b[0m\u001b[0;34m\u001b[0m\u001b[0m\n\u001b[1;32m    851\u001b[0m \u001b[0;34m\u001b[0m\u001b[0m\n\u001b[0;32m--> 852\u001b[0;31m         \u001b[0;32mreturn\u001b[0m \u001b[0mself\u001b[0m\u001b[0;34m.\u001b[0m\u001b[0m_apply\u001b[0m\u001b[0;34m(\u001b[0m\u001b[0mconvert\u001b[0m\u001b[0;34m)\u001b[0m\u001b[0;34m\u001b[0m\u001b[0;34m\u001b[0m\u001b[0m\n\u001b[0m\u001b[1;32m    853\u001b[0m \u001b[0;34m\u001b[0m\u001b[0m\n\u001b[1;32m    854\u001b[0m     def register_backward_hook(\n",
      "\u001b[0;32m/usr/local/lib/python3.7/dist-packages/torch/nn/modules/module.py\u001b[0m in \u001b[0;36m_apply\u001b[0;34m(self, fn)\u001b[0m\n\u001b[1;32m    528\u001b[0m     \u001b[0;32mdef\u001b[0m \u001b[0m_apply\u001b[0m\u001b[0;34m(\u001b[0m\u001b[0mself\u001b[0m\u001b[0;34m,\u001b[0m \u001b[0mfn\u001b[0m\u001b[0;34m)\u001b[0m\u001b[0;34m:\u001b[0m\u001b[0;34m\u001b[0m\u001b[0;34m\u001b[0m\u001b[0m\n\u001b[1;32m    529\u001b[0m         \u001b[0;32mfor\u001b[0m \u001b[0mmodule\u001b[0m \u001b[0;32min\u001b[0m \u001b[0mself\u001b[0m\u001b[0;34m.\u001b[0m\u001b[0mchildren\u001b[0m\u001b[0;34m(\u001b[0m\u001b[0;34m)\u001b[0m\u001b[0;34m:\u001b[0m\u001b[0;34m\u001b[0m\u001b[0;34m\u001b[0m\u001b[0m\n\u001b[0;32m--> 530\u001b[0;31m             \u001b[0mmodule\u001b[0m\u001b[0;34m.\u001b[0m\u001b[0m_apply\u001b[0m\u001b[0;34m(\u001b[0m\u001b[0mfn\u001b[0m\u001b[0;34m)\u001b[0m\u001b[0;34m\u001b[0m\u001b[0;34m\u001b[0m\u001b[0m\n\u001b[0m\u001b[1;32m    531\u001b[0m \u001b[0;34m\u001b[0m\u001b[0m\n\u001b[1;32m    532\u001b[0m         \u001b[0;32mdef\u001b[0m \u001b[0mcompute_should_use_set_data\u001b[0m\u001b[0;34m(\u001b[0m\u001b[0mtensor\u001b[0m\u001b[0;34m,\u001b[0m \u001b[0mtensor_applied\u001b[0m\u001b[0;34m)\u001b[0m\u001b[0;34m:\u001b[0m\u001b[0;34m\u001b[0m\u001b[0;34m\u001b[0m\u001b[0m\n",
      "\u001b[0;32m/usr/local/lib/python3.7/dist-packages/torch/nn/modules/module.py\u001b[0m in \u001b[0;36m_apply\u001b[0;34m(self, fn)\u001b[0m\n\u001b[1;32m    528\u001b[0m     \u001b[0;32mdef\u001b[0m \u001b[0m_apply\u001b[0m\u001b[0;34m(\u001b[0m\u001b[0mself\u001b[0m\u001b[0;34m,\u001b[0m \u001b[0mfn\u001b[0m\u001b[0;34m)\u001b[0m\u001b[0;34m:\u001b[0m\u001b[0;34m\u001b[0m\u001b[0;34m\u001b[0m\u001b[0m\n\u001b[1;32m    529\u001b[0m         \u001b[0;32mfor\u001b[0m \u001b[0mmodule\u001b[0m \u001b[0;32min\u001b[0m \u001b[0mself\u001b[0m\u001b[0;34m.\u001b[0m\u001b[0mchildren\u001b[0m\u001b[0;34m(\u001b[0m\u001b[0;34m)\u001b[0m\u001b[0;34m:\u001b[0m\u001b[0;34m\u001b[0m\u001b[0;34m\u001b[0m\u001b[0m\n\u001b[0;32m--> 530\u001b[0;31m             \u001b[0mmodule\u001b[0m\u001b[0;34m.\u001b[0m\u001b[0m_apply\u001b[0m\u001b[0;34m(\u001b[0m\u001b[0mfn\u001b[0m\u001b[0;34m)\u001b[0m\u001b[0;34m\u001b[0m\u001b[0;34m\u001b[0m\u001b[0m\n\u001b[0m\u001b[1;32m    531\u001b[0m \u001b[0;34m\u001b[0m\u001b[0m\n\u001b[1;32m    532\u001b[0m         \u001b[0;32mdef\u001b[0m \u001b[0mcompute_should_use_set_data\u001b[0m\u001b[0;34m(\u001b[0m\u001b[0mtensor\u001b[0m\u001b[0;34m,\u001b[0m \u001b[0mtensor_applied\u001b[0m\u001b[0;34m)\u001b[0m\u001b[0;34m:\u001b[0m\u001b[0;34m\u001b[0m\u001b[0;34m\u001b[0m\u001b[0m\n",
      "\u001b[0;32m/usr/local/lib/python3.7/dist-packages/torch/nn/modules/module.py\u001b[0m in \u001b[0;36m_apply\u001b[0;34m(self, fn)\u001b[0m\n\u001b[1;32m    528\u001b[0m     \u001b[0;32mdef\u001b[0m \u001b[0m_apply\u001b[0m\u001b[0;34m(\u001b[0m\u001b[0mself\u001b[0m\u001b[0;34m,\u001b[0m \u001b[0mfn\u001b[0m\u001b[0;34m)\u001b[0m\u001b[0;34m:\u001b[0m\u001b[0;34m\u001b[0m\u001b[0;34m\u001b[0m\u001b[0m\n\u001b[1;32m    529\u001b[0m         \u001b[0;32mfor\u001b[0m \u001b[0mmodule\u001b[0m \u001b[0;32min\u001b[0m \u001b[0mself\u001b[0m\u001b[0;34m.\u001b[0m\u001b[0mchildren\u001b[0m\u001b[0;34m(\u001b[0m\u001b[0;34m)\u001b[0m\u001b[0;34m:\u001b[0m\u001b[0;34m\u001b[0m\u001b[0;34m\u001b[0m\u001b[0m\n\u001b[0;32m--> 530\u001b[0;31m             \u001b[0mmodule\u001b[0m\u001b[0;34m.\u001b[0m\u001b[0m_apply\u001b[0m\u001b[0;34m(\u001b[0m\u001b[0mfn\u001b[0m\u001b[0;34m)\u001b[0m\u001b[0;34m\u001b[0m\u001b[0;34m\u001b[0m\u001b[0m\n\u001b[0m\u001b[1;32m    531\u001b[0m \u001b[0;34m\u001b[0m\u001b[0m\n\u001b[1;32m    532\u001b[0m         \u001b[0;32mdef\u001b[0m \u001b[0mcompute_should_use_set_data\u001b[0m\u001b[0;34m(\u001b[0m\u001b[0mtensor\u001b[0m\u001b[0;34m,\u001b[0m \u001b[0mtensor_applied\u001b[0m\u001b[0;34m)\u001b[0m\u001b[0;34m:\u001b[0m\u001b[0;34m\u001b[0m\u001b[0;34m\u001b[0m\u001b[0m\n",
      "\u001b[0;32m/usr/local/lib/python3.7/dist-packages/torch/nn/modules/module.py\u001b[0m in \u001b[0;36m_apply\u001b[0;34m(self, fn)\u001b[0m\n\u001b[1;32m    528\u001b[0m     \u001b[0;32mdef\u001b[0m \u001b[0m_apply\u001b[0m\u001b[0;34m(\u001b[0m\u001b[0mself\u001b[0m\u001b[0;34m,\u001b[0m \u001b[0mfn\u001b[0m\u001b[0;34m)\u001b[0m\u001b[0;34m:\u001b[0m\u001b[0;34m\u001b[0m\u001b[0;34m\u001b[0m\u001b[0m\n\u001b[1;32m    529\u001b[0m         \u001b[0;32mfor\u001b[0m \u001b[0mmodule\u001b[0m \u001b[0;32min\u001b[0m \u001b[0mself\u001b[0m\u001b[0;34m.\u001b[0m\u001b[0mchildren\u001b[0m\u001b[0;34m(\u001b[0m\u001b[0;34m)\u001b[0m\u001b[0;34m:\u001b[0m\u001b[0;34m\u001b[0m\u001b[0;34m\u001b[0m\u001b[0m\n\u001b[0;32m--> 530\u001b[0;31m             \u001b[0mmodule\u001b[0m\u001b[0;34m.\u001b[0m\u001b[0m_apply\u001b[0m\u001b[0;34m(\u001b[0m\u001b[0mfn\u001b[0m\u001b[0;34m)\u001b[0m\u001b[0;34m\u001b[0m\u001b[0;34m\u001b[0m\u001b[0m\n\u001b[0m\u001b[1;32m    531\u001b[0m \u001b[0;34m\u001b[0m\u001b[0m\n\u001b[1;32m    532\u001b[0m         \u001b[0;32mdef\u001b[0m \u001b[0mcompute_should_use_set_data\u001b[0m\u001b[0;34m(\u001b[0m\u001b[0mtensor\u001b[0m\u001b[0;34m,\u001b[0m \u001b[0mtensor_applied\u001b[0m\u001b[0;34m)\u001b[0m\u001b[0;34m:\u001b[0m\u001b[0;34m\u001b[0m\u001b[0;34m\u001b[0m\u001b[0m\n",
      "\u001b[0;32m/usr/local/lib/python3.7/dist-packages/torch/nn/modules/module.py\u001b[0m in \u001b[0;36m_apply\u001b[0;34m(self, fn)\u001b[0m\n\u001b[1;32m    550\u001b[0m                 \u001b[0;31m# `with torch.no_grad():`\u001b[0m\u001b[0;34m\u001b[0m\u001b[0;34m\u001b[0m\u001b[0;34m\u001b[0m\u001b[0m\n\u001b[1;32m    551\u001b[0m                 \u001b[0;32mwith\u001b[0m \u001b[0mtorch\u001b[0m\u001b[0;34m.\u001b[0m\u001b[0mno_grad\u001b[0m\u001b[0;34m(\u001b[0m\u001b[0;34m)\u001b[0m\u001b[0;34m:\u001b[0m\u001b[0;34m\u001b[0m\u001b[0;34m\u001b[0m\u001b[0m\n\u001b[0;32m--> 552\u001b[0;31m                     \u001b[0mparam_applied\u001b[0m \u001b[0;34m=\u001b[0m \u001b[0mfn\u001b[0m\u001b[0;34m(\u001b[0m\u001b[0mparam\u001b[0m\u001b[0;34m)\u001b[0m\u001b[0;34m\u001b[0m\u001b[0;34m\u001b[0m\u001b[0m\n\u001b[0m\u001b[1;32m    553\u001b[0m                 \u001b[0mshould_use_set_data\u001b[0m \u001b[0;34m=\u001b[0m \u001b[0mcompute_should_use_set_data\u001b[0m\u001b[0;34m(\u001b[0m\u001b[0mparam\u001b[0m\u001b[0;34m,\u001b[0m \u001b[0mparam_applied\u001b[0m\u001b[0;34m)\u001b[0m\u001b[0;34m\u001b[0m\u001b[0;34m\u001b[0m\u001b[0m\n\u001b[1;32m    554\u001b[0m                 \u001b[0;32mif\u001b[0m \u001b[0mshould_use_set_data\u001b[0m\u001b[0;34m:\u001b[0m\u001b[0;34m\u001b[0m\u001b[0;34m\u001b[0m\u001b[0m\n",
      "\u001b[0;32m/usr/local/lib/python3.7/dist-packages/torch/nn/modules/module.py\u001b[0m in \u001b[0;36mconvert\u001b[0;34m(t)\u001b[0m\n\u001b[1;32m    848\u001b[0m                 return t.to(device, dtype if t.is_floating_point() or t.is_complex() else None,\n\u001b[1;32m    849\u001b[0m                             non_blocking, memory_format=convert_to_format)\n\u001b[0;32m--> 850\u001b[0;31m             \u001b[0;32mreturn\u001b[0m \u001b[0mt\u001b[0m\u001b[0;34m.\u001b[0m\u001b[0mto\u001b[0m\u001b[0;34m(\u001b[0m\u001b[0mdevice\u001b[0m\u001b[0;34m,\u001b[0m \u001b[0mdtype\u001b[0m \u001b[0;32mif\u001b[0m \u001b[0mt\u001b[0m\u001b[0;34m.\u001b[0m\u001b[0mis_floating_point\u001b[0m\u001b[0;34m(\u001b[0m\u001b[0;34m)\u001b[0m \u001b[0;32mor\u001b[0m \u001b[0mt\u001b[0m\u001b[0;34m.\u001b[0m\u001b[0mis_complex\u001b[0m\u001b[0;34m(\u001b[0m\u001b[0;34m)\u001b[0m \u001b[0;32melse\u001b[0m \u001b[0;32mNone\u001b[0m\u001b[0;34m,\u001b[0m \u001b[0mnon_blocking\u001b[0m\u001b[0;34m)\u001b[0m\u001b[0;34m\u001b[0m\u001b[0;34m\u001b[0m\u001b[0m\n\u001b[0m\u001b[1;32m    851\u001b[0m \u001b[0;34m\u001b[0m\u001b[0m\n\u001b[1;32m    852\u001b[0m         \u001b[0;32mreturn\u001b[0m \u001b[0mself\u001b[0m\u001b[0;34m.\u001b[0m\u001b[0m_apply\u001b[0m\u001b[0;34m(\u001b[0m\u001b[0mconvert\u001b[0m\u001b[0;34m)\u001b[0m\u001b[0;34m\u001b[0m\u001b[0;34m\u001b[0m\u001b[0m\n",
      "\u001b[0;31mRuntimeError\u001b[0m: CUDA out of memory. Tried to allocate 2.00 MiB (GPU 0; 11.17 GiB total capacity; 10.49 GiB already allocated; 1.81 MiB free; 10.59 GiB reserved in total by PyTorch)"
     ]
    }
   ],
   "source": [
    "acc_v = train(canny=False)"
   ]
  },
  {
   "cell_type": "code",
   "execution_count": null,
   "metadata": {
    "executionInfo": {
     "elapsed": 652,
     "status": "aborted",
     "timestamp": 1635092987292,
     "user": {
      "displayName": "Никита Егоров",
      "photoUrl": "https://lh3.googleusercontent.com/a/default-user=s64",
      "userId": "09413909794377500250"
     },
     "user_tz": -180
    },
    "id": "3sAjC0oGGn55"
   },
   "outputs": [],
   "source": [
    "acc_c = train(canny=True)"
   ]
  }
 ],
 "metadata": {
  "accelerator": "GPU",
  "colab": {
   "authorship_tag": "ABX9TyN2ul7AJSmwX3DEKLOPBr0l",
   "collapsed_sections": [],
   "name": "UAN_canny.ipynb",
   "provenance": []
  },
  "kernelspec": {
   "display_name": "Python 3",
   "language": "python",
   "name": "python3"
  },
  "language_info": {
   "codemirror_mode": {
    "name": "ipython",
    "version": 3
   },
   "file_extension": ".py",
   "mimetype": "text/x-python",
   "name": "python",
   "nbconvert_exporter": "python",
   "pygments_lexer": "ipython3",
   "version": "3.6.10"
  }
 },
 "nbformat": 4,
 "nbformat_minor": 1
}
